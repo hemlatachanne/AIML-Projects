{
 "cells": [
  {
   "cell_type": "markdown",
   "metadata": {},
   "source": [
    "### Hemlata Channe\n",
    "### Project 5: Recommendation System Project\n",
    "\n",
    "### Data Description: \n",
    "\n",
    "### Domain: Smartphone, Electronics\n",
    "### Context:\n",
    "India is the second largest market globally for smartphones after China. About 134 million smartphones were sold across India in the year 2017 and is estimated to increase to about 442 million in 2022. India ranked second in the average time spent on mobile web by smartphone users across Asia Paci ic. The combination of very high sales volumes and the average smartphone consumer behaviour has made India a very attractive market for foreign vendors. As per Consumer behaviour, 97% of consumers turn to a search engine when they are buying a product vs. 15% who turn to social media. If a seller succeeds to publish smartphones based on user’s behaviour/choice at the right place, there are 90% chances that user will enquire for the same. This Case Study is targeted to build a recommendation system based on individual consumer’s behaviour or choice.\n",
    "### Data Description:\n",
    "#### author : name of the person who gave the rating\n",
    "#### country : country the person who gave the rating belongs to\n",
    "#### data : date of the rating\n",
    "#### domain: website from which the rating was taken from\n",
    "#### extract: rating content\n",
    "#### language: language in which the rating was given\n",
    "#### product: name of the product/mobile phone for which the rating was given\n",
    "#### score: average rating for the phone\n",
    "#### score_max: highest rating given for the phone\n",
    "#### source: source from where the rating was taken\n",
    "\n",
    "### Learning Outcomes:\n",
    "\n",
    "\n",
    "### Objective:\n",
    "We will build a recommendation system using popularity based and collaborative filtering methods to recommend mobile phones to a user which are most popular and personalised respectively.\n"
   ]
  },
  {
   "cell_type": "markdown",
   "metadata": {},
   "source": [
    "## Steps and tasks"
   ]
  },
  {
   "cell_type": "markdown",
   "metadata": {},
   "source": [
    "## Steps and tasks: [ Total Score: 60 points]\n",
    "### Task 1: Import the necessary libraries and read the provided CSVs as a data frame and perform the below steps.\n",
    "1. Merge the provided CSVs into one data-frame.\n",
    "2. Check a few observations and shape of the data-frame.\n",
    "3. Round off scores to the nearest integers.\n",
    "4. Check for missing values. Impute the missing values if there is any.\n",
    "5. Check for duplicate values and remove them if there is any.\n",
    "6. Keep only 1000000 data samples. Use random state=612.\n",
    "7. Drop irrelevant features. Keep features like Author, Product, and Score."
   ]
  },
  {
   "cell_type": "code",
   "execution_count": 1,
   "metadata": {},
   "outputs": [],
   "source": [
    "#!pip install surprise"
   ]
  },
  {
   "cell_type": "code",
   "execution_count": 2,
   "metadata": {},
   "outputs": [],
   "source": [
    "import numpy as np # linear algebra\n",
    "import pandas as pd # data processing, CSV file I/O (e.g. pd.read_csv)\n",
    "import matplotlib.pyplot as plt       # matplotlib.pyplot plots data\n",
    "%matplotlib inline \n",
    "\n",
    "from sklearn.metrics.pairwise import cosine_similarity\n",
    "from sklearn.feature_extraction.text import CountVectorizer\n",
    "from surprise import KNNWithMeans\n",
    "from surprise import accuracy\n",
    "from surprise.model_selection import train_test_split\n"
   ]
  },
  {
   "cell_type": "code",
   "execution_count": 3,
   "metadata": {},
   "outputs": [],
   "source": [
    "#help(pd.read_csv)"
   ]
  },
  {
   "cell_type": "code",
   "execution_count": 4,
   "metadata": {},
   "outputs": [
    {
     "data": {
      "text/plain": [
       "(374910, 11)"
      ]
     },
     "execution_count": 4,
     "metadata": {},
     "output_type": "execute_result"
    }
   ],
   "source": [
    "Data1 = pd.read_csv(\"Data Set/phone_user_review_file_1.csv\",error_bad_lines=False,encoding='latin1')\n",
    "Data1.shape"
   ]
  },
  {
   "cell_type": "code",
   "execution_count": 5,
   "metadata": {},
   "outputs": [
    {
     "data": {
      "text/plain": [
       "(114925, 11)"
      ]
     },
     "execution_count": 5,
     "metadata": {},
     "output_type": "execute_result"
    }
   ],
   "source": [
    "Data2 = pd.read_csv(\"Data Set/phone_user_review_file_2.csv\",error_bad_lines=False,encoding='latin1')\n",
    "Data2.head()\n",
    "Data2.shape"
   ]
  },
  {
   "cell_type": "code",
   "execution_count": 6,
   "metadata": {},
   "outputs": [
    {
     "data": {
      "text/plain": [
       "(312961, 11)"
      ]
     },
     "execution_count": 6,
     "metadata": {},
     "output_type": "execute_result"
    }
   ],
   "source": [
    "Data3 = pd.read_csv(\"Data Set/phone_user_review_file_3.csv\",error_bad_lines=False,encoding='latin1')\n",
    "#Data3.head()\n",
    "Data3.shape"
   ]
  },
  {
   "cell_type": "code",
   "execution_count": 7,
   "metadata": {},
   "outputs": [
    {
     "data": {
      "text/plain": [
       "(98284, 11)"
      ]
     },
     "execution_count": 7,
     "metadata": {},
     "output_type": "execute_result"
    }
   ],
   "source": [
    "Data4 = pd.read_csv(\"Data Set/phone_user_review_file_4.csv\",error_bad_lines=False,encoding='latin1')\n",
    "#Data3.head()\n",
    "Data4.shape"
   ]
  },
  {
   "cell_type": "code",
   "execution_count": 8,
   "metadata": {},
   "outputs": [
    {
     "data": {
      "text/plain": [
       "(350216, 11)"
      ]
     },
     "execution_count": 8,
     "metadata": {},
     "output_type": "execute_result"
    }
   ],
   "source": [
    "Data5 = pd.read_csv(\"Data Set/phone_user_review_file_5.csv\",error_bad_lines=False,encoding='latin1')\n",
    "#Data3.head()\n",
    "Data5.shape"
   ]
  },
  {
   "cell_type": "code",
   "execution_count": 9,
   "metadata": {},
   "outputs": [
    {
     "data": {
      "text/plain": [
       "(163837, 11)"
      ]
     },
     "execution_count": 9,
     "metadata": {},
     "output_type": "execute_result"
    }
   ],
   "source": [
    "Data6 = pd.read_csv(\"Data Set/phone_user_review_file_6.csv\",error_bad_lines=False,encoding='latin1')\n",
    "#Data3.head()\n",
    "Data6.shape"
   ]
  },
  {
   "cell_type": "code",
   "execution_count": 10,
   "metadata": {},
   "outputs": [],
   "source": [
    "frames = [Data1,Data2,Data3,Data4,Data5,Data6]\n",
    "rec_Data = pd.concat(frames)"
   ]
  },
  {
   "cell_type": "code",
   "execution_count": 11,
   "metadata": {},
   "outputs": [
    {
     "data": {
      "text/plain": [
       "(1415133, 11)"
      ]
     },
     "execution_count": 11,
     "metadata": {},
     "output_type": "execute_result"
    }
   ],
   "source": [
    "rec_Data.shape"
   ]
  },
  {
   "cell_type": "code",
   "execution_count": 12,
   "metadata": {},
   "outputs": [
    {
     "data": {
      "text/html": [
       "<div>\n",
       "<style scoped>\n",
       "    .dataframe tbody tr th:only-of-type {\n",
       "        vertical-align: middle;\n",
       "    }\n",
       "\n",
       "    .dataframe tbody tr th {\n",
       "        vertical-align: top;\n",
       "    }\n",
       "\n",
       "    .dataframe thead th {\n",
       "        text-align: right;\n",
       "    }\n",
       "</style>\n",
       "<table border=\"1\" class=\"dataframe\">\n",
       "  <thead>\n",
       "    <tr style=\"text-align: right;\">\n",
       "      <th></th>\n",
       "      <th>phone_url</th>\n",
       "      <th>date</th>\n",
       "      <th>lang</th>\n",
       "      <th>country</th>\n",
       "      <th>source</th>\n",
       "      <th>domain</th>\n",
       "      <th>score</th>\n",
       "      <th>score_max</th>\n",
       "      <th>extract</th>\n",
       "      <th>author</th>\n",
       "      <th>product</th>\n",
       "    </tr>\n",
       "  </thead>\n",
       "  <tbody>\n",
       "    <tr>\n",
       "      <th>0</th>\n",
       "      <td>/cellphones/samsung-galaxy-s8/</td>\n",
       "      <td>5/2/2017</td>\n",
       "      <td>en</td>\n",
       "      <td>us</td>\n",
       "      <td>Verizon Wireless</td>\n",
       "      <td>verizonwireless.com</td>\n",
       "      <td>10.0</td>\n",
       "      <td>10.0</td>\n",
       "      <td>As a diehard Samsung fan who has had every Sam...</td>\n",
       "      <td>CarolAnn35</td>\n",
       "      <td>Samsung Galaxy S8</td>\n",
       "    </tr>\n",
       "    <tr>\n",
       "      <th>1</th>\n",
       "      <td>/cellphones/samsung-galaxy-s8/</td>\n",
       "      <td>4/28/2017</td>\n",
       "      <td>en</td>\n",
       "      <td>us</td>\n",
       "      <td>Phone Arena</td>\n",
       "      <td>phonearena.com</td>\n",
       "      <td>10.0</td>\n",
       "      <td>10.0</td>\n",
       "      <td>Love the phone. the phone is sleek and smooth ...</td>\n",
       "      <td>james0923</td>\n",
       "      <td>Samsung Galaxy S8</td>\n",
       "    </tr>\n",
       "    <tr>\n",
       "      <th>2</th>\n",
       "      <td>/cellphones/samsung-galaxy-s8/</td>\n",
       "      <td>5/4/2017</td>\n",
       "      <td>en</td>\n",
       "      <td>us</td>\n",
       "      <td>Amazon</td>\n",
       "      <td>amazon.com</td>\n",
       "      <td>6.0</td>\n",
       "      <td>10.0</td>\n",
       "      <td>Adequate feel. Nice heft. Processor's still sl...</td>\n",
       "      <td>R. Craig</td>\n",
       "      <td>Samsung Galaxy S8 (64GB) G950U 5.8\" 4G LTE Unl...</td>\n",
       "    </tr>\n",
       "    <tr>\n",
       "      <th>3</th>\n",
       "      <td>/cellphones/samsung-galaxy-s8/</td>\n",
       "      <td>5/2/2017</td>\n",
       "      <td>en</td>\n",
       "      <td>us</td>\n",
       "      <td>Samsung</td>\n",
       "      <td>samsung.com</td>\n",
       "      <td>9.2</td>\n",
       "      <td>10.0</td>\n",
       "      <td>Never disappointed. One of the reasons I've be...</td>\n",
       "      <td>Buster2020</td>\n",
       "      <td>Samsung Galaxy S8 64GB (AT&amp;T)</td>\n",
       "    </tr>\n",
       "    <tr>\n",
       "      <th>4</th>\n",
       "      <td>/cellphones/samsung-galaxy-s8/</td>\n",
       "      <td>5/11/2017</td>\n",
       "      <td>en</td>\n",
       "      <td>us</td>\n",
       "      <td>Verizon Wireless</td>\n",
       "      <td>verizonwireless.com</td>\n",
       "      <td>4.0</td>\n",
       "      <td>10.0</td>\n",
       "      <td>I've now found that i'm in a group of people t...</td>\n",
       "      <td>S Ate Mine</td>\n",
       "      <td>Samsung Galaxy S8</td>\n",
       "    </tr>\n",
       "  </tbody>\n",
       "</table>\n",
       "</div>"
      ],
      "text/plain": [
       "                        phone_url       date lang country            source  \\\n",
       "0  /cellphones/samsung-galaxy-s8/   5/2/2017   en      us  Verizon Wireless   \n",
       "1  /cellphones/samsung-galaxy-s8/  4/28/2017   en      us       Phone Arena   \n",
       "2  /cellphones/samsung-galaxy-s8/   5/4/2017   en      us            Amazon   \n",
       "3  /cellphones/samsung-galaxy-s8/   5/2/2017   en      us           Samsung   \n",
       "4  /cellphones/samsung-galaxy-s8/  5/11/2017   en      us  Verizon Wireless   \n",
       "\n",
       "                domain  score  score_max  \\\n",
       "0  verizonwireless.com   10.0       10.0   \n",
       "1       phonearena.com   10.0       10.0   \n",
       "2           amazon.com    6.0       10.0   \n",
       "3          samsung.com    9.2       10.0   \n",
       "4  verizonwireless.com    4.0       10.0   \n",
       "\n",
       "                                             extract       author  \\\n",
       "0  As a diehard Samsung fan who has had every Sam...   CarolAnn35   \n",
       "1  Love the phone. the phone is sleek and smooth ...    james0923   \n",
       "2  Adequate feel. Nice heft. Processor's still sl...     R. Craig   \n",
       "3  Never disappointed. One of the reasons I've be...  Buster2020    \n",
       "4  I've now found that i'm in a group of people t...   S Ate Mine   \n",
       "\n",
       "                                             product  \n",
       "0                                  Samsung Galaxy S8  \n",
       "1                                  Samsung Galaxy S8  \n",
       "2  Samsung Galaxy S8 (64GB) G950U 5.8\" 4G LTE Unl...  \n",
       "3                      Samsung Galaxy S8 64GB (AT&T)  \n",
       "4                                  Samsung Galaxy S8  "
      ]
     },
     "execution_count": 12,
     "metadata": {},
     "output_type": "execute_result"
    }
   ],
   "source": [
    "rec_Data.head()"
   ]
  },
  {
   "cell_type": "markdown",
   "metadata": {},
   "source": [
    "Dataset has 1 Million 415 thousand and one hundred thirty three records."
   ]
  },
  {
   "cell_type": "code",
   "execution_count": 13,
   "metadata": {},
   "outputs": [
    {
     "name": "stdout",
     "output_type": "stream",
     "text": [
      "<class 'pandas.core.frame.DataFrame'>\n",
      "Int64Index: 1415133 entries, 0 to 163836\n",
      "Data columns (total 11 columns):\n",
      " #   Column     Non-Null Count    Dtype  \n",
      "---  ------     --------------    -----  \n",
      " 0   phone_url  1415133 non-null  object \n",
      " 1   date       1415133 non-null  object \n",
      " 2   lang       1415133 non-null  object \n",
      " 3   country    1415133 non-null  object \n",
      " 4   source     1415133 non-null  object \n",
      " 5   domain     1415133 non-null  object \n",
      " 6   score      1351644 non-null  float64\n",
      " 7   score_max  1351644 non-null  float64\n",
      " 8   extract    1395772 non-null  object \n",
      " 9   author     1351931 non-null  object \n",
      " 10  product    1415132 non-null  object \n",
      "dtypes: float64(2), object(9)\n",
      "memory usage: 129.6+ MB\n"
     ]
    }
   ],
   "source": [
    "rec_Data.info()"
   ]
  },
  {
   "cell_type": "markdown",
   "metadata": {},
   "source": [
    "There are total 11 columns in the dataset.\n",
    "Few entreis are missing in the dataset.\n",
    "score and score_max columns are numerical and other columns are of object type."
   ]
  },
  {
   "cell_type": "code",
   "execution_count": 14,
   "metadata": {},
   "outputs": [
    {
     "data": {
      "text/html": [
       "<div>\n",
       "<style scoped>\n",
       "    .dataframe tbody tr th:only-of-type {\n",
       "        vertical-align: middle;\n",
       "    }\n",
       "\n",
       "    .dataframe tbody tr th {\n",
       "        vertical-align: top;\n",
       "    }\n",
       "\n",
       "    .dataframe thead th {\n",
       "        text-align: right;\n",
       "    }\n",
       "</style>\n",
       "<table border=\"1\" class=\"dataframe\">\n",
       "  <thead>\n",
       "    <tr style=\"text-align: right;\">\n",
       "      <th></th>\n",
       "      <th>count</th>\n",
       "      <th>mean</th>\n",
       "      <th>std</th>\n",
       "      <th>min</th>\n",
       "      <th>25%</th>\n",
       "      <th>50%</th>\n",
       "      <th>75%</th>\n",
       "      <th>max</th>\n",
       "    </tr>\n",
       "  </thead>\n",
       "  <tbody>\n",
       "    <tr>\n",
       "      <th>score</th>\n",
       "      <td>1351644.0</td>\n",
       "      <td>8.00706</td>\n",
       "      <td>2.616121</td>\n",
       "      <td>0.2</td>\n",
       "      <td>7.2</td>\n",
       "      <td>9.2</td>\n",
       "      <td>10.0</td>\n",
       "      <td>10.0</td>\n",
       "    </tr>\n",
       "    <tr>\n",
       "      <th>score_max</th>\n",
       "      <td>1351644.0</td>\n",
       "      <td>10.00000</td>\n",
       "      <td>0.000000</td>\n",
       "      <td>10.0</td>\n",
       "      <td>10.0</td>\n",
       "      <td>10.0</td>\n",
       "      <td>10.0</td>\n",
       "      <td>10.0</td>\n",
       "    </tr>\n",
       "  </tbody>\n",
       "</table>\n",
       "</div>"
      ],
      "text/plain": [
       "               count      mean       std   min   25%   50%   75%   max\n",
       "score      1351644.0   8.00706  2.616121   0.2   7.2   9.2  10.0  10.0\n",
       "score_max  1351644.0  10.00000  0.000000  10.0  10.0  10.0  10.0  10.0"
      ]
     },
     "execution_count": 14,
     "metadata": {},
     "output_type": "execute_result"
    }
   ],
   "source": [
    "rec_Data.describe().transpose()"
   ]
  },
  {
   "cell_type": "code",
   "execution_count": 15,
   "metadata": {},
   "outputs": [],
   "source": [
    "#Round off scores to the nearest integers.\n",
    "rec_Data.score = rec_Data.score.apply(np.round) "
   ]
  },
  {
   "cell_type": "code",
   "execution_count": 16,
   "metadata": {},
   "outputs": [
    {
     "data": {
      "text/plain": [
       "phone_url        0\n",
       "date             0\n",
       "lang             0\n",
       "country          0\n",
       "source           0\n",
       "domain           0\n",
       "score        63489\n",
       "score_max    63489\n",
       "extract      19361\n",
       "author       63202\n",
       "product          1\n",
       "dtype: int64"
      ]
     },
     "execution_count": 16,
     "metadata": {},
     "output_type": "execute_result"
    }
   ],
   "source": [
    "#Check for missing values. Impute the missing values if there is any.\n",
    "rec_Data.isnull().sum()"
   ]
  },
  {
   "cell_type": "code",
   "execution_count": 17,
   "metadata": {},
   "outputs": [],
   "source": [
    "rec_Data['score'].fillna(rec_Data['score'].median(),inplace=True)\n",
    "rec_Data['score_max'].fillna(rec_Data['score_max'].median(),inplace=True)\n"
   ]
  },
  {
   "cell_type": "code",
   "execution_count": 18,
   "metadata": {},
   "outputs": [
    {
     "data": {
      "text/plain": [
       "phone_url        0\n",
       "date             0\n",
       "lang             0\n",
       "country          0\n",
       "source           0\n",
       "domain           0\n",
       "score            0\n",
       "score_max        0\n",
       "extract      19361\n",
       "author       63202\n",
       "product          1\n",
       "dtype: int64"
      ]
     },
     "execution_count": 18,
     "metadata": {},
     "output_type": "execute_result"
    }
   ],
   "source": [
    "rec_Data.isnull().sum()"
   ]
  },
  {
   "cell_type": "code",
   "execution_count": 19,
   "metadata": {},
   "outputs": [],
   "source": [
    "rec_Data.dropna(inplace=True)"
   ]
  },
  {
   "cell_type": "code",
   "execution_count": 20,
   "metadata": {},
   "outputs": [
    {
     "data": {
      "text/plain": [
       "(1336416, 11)"
      ]
     },
     "execution_count": 20,
     "metadata": {},
     "output_type": "execute_result"
    }
   ],
   "source": [
    "rec_Data.shape"
   ]
  },
  {
   "cell_type": "code",
   "execution_count": 21,
   "metadata": {},
   "outputs": [
    {
     "data": {
      "text/plain": [
       "4823"
      ]
     },
     "execution_count": 21,
     "metadata": {},
     "output_type": "execute_result"
    }
   ],
   "source": [
    "#Check for duplicate values and remove them if there is any.\n",
    "rec_Data.duplicated().sum()"
   ]
  },
  {
   "cell_type": "code",
   "execution_count": 22,
   "metadata": {},
   "outputs": [],
   "source": [
    "rec_Data.drop_duplicates(keep = False, inplace = True) "
   ]
  },
  {
   "cell_type": "code",
   "execution_count": 23,
   "metadata": {},
   "outputs": [
    {
     "data": {
      "text/plain": [
       "(1327321, 11)"
      ]
     },
     "execution_count": 23,
     "metadata": {},
     "output_type": "execute_result"
    }
   ],
   "source": [
    "rec_Data.shape"
   ]
  },
  {
   "cell_type": "markdown",
   "metadata": {},
   "source": [
    "###  Task 9. Check for outliers and impute them as required.\n",
    "There are few outliers in the dataset and those are removed."
   ]
  },
  {
   "cell_type": "code",
   "execution_count": 24,
   "metadata": {},
   "outputs": [
    {
     "data": {
      "text/plain": [
       "<matplotlib.axes._subplots.AxesSubplot at 0x7f3ef37438d0>"
      ]
     },
     "execution_count": 24,
     "metadata": {},
     "output_type": "execute_result"
    },
    {
     "data": {
      "image/png": "[encoded data removed]",
      "text/plain": [
       "<Figure size 432x288 with 1 Axes>"
      ]
     },
     "metadata": {
      "needs_background": "light"
     },
     "output_type": "display_data"
    }
   ],
   "source": [
    "import seaborn as sns\n",
    "sns.boxplot(data=rec_Data)"
   ]
  },
  {
   "cell_type": "code",
   "execution_count": 25,
   "metadata": {},
   "outputs": [
    {
     "data": {
      "text/plain": [
       "125600"
      ]
     },
     "execution_count": 25,
     "metadata": {},
     "output_type": "execute_result"
    }
   ],
   "source": [
    "rec_Data[rec_Data['score']< 3]['score'].count()"
   ]
  },
  {
   "cell_type": "code",
   "execution_count": 26,
   "metadata": {},
   "outputs": [
    {
     "data": {
      "text/plain": [
       "(1327321, 11)"
      ]
     },
     "execution_count": 26,
     "metadata": {},
     "output_type": "execute_result"
    }
   ],
   "source": [
    "rec_Data.shape"
   ]
  },
  {
   "cell_type": "markdown",
   "metadata": {},
   "source": [
    "### This code using mean and std is taking too long to remove outliers\n",
    "####  calculate summary statistics\n",
    "data_mean, data_std = np.mean(rec_Data), np.std(rec_Data)\n",
    "####  identify outliers\n",
    "cut_off = data_std * 3\n",
    "lower, upper = data_mean - cut_off, data_mean + cut_off\n",
    "\n"
   ]
  },
  {
   "cell_type": "markdown",
   "metadata": {},
   "source": [
    "####  identify outliers\n",
    "outliers = [x for x in rec_Data if x < lower or x > upper]\n",
    "print('Identified outliers: %d' % len(outliers))\n",
    "#### remove outliers\n",
    "outliers_removed = [x for x in rec_Data if x >= lower and x <= upper]\n",
    "print('Non-outlier observations: %d' % len(outliers_removed))"
   ]
  },
  {
   "cell_type": "markdown",
   "metadata": {},
   "source": [
    "from scipy import stats\n",
    "z_scores = stats.zscore(rec_Data)\n",
    "\n",
    "abs_z_scores = np.abs(z_scores)\n",
    "filtered_entries = (abs_z_scores < 3).all(axis=1)\n",
    "new_df = rec_Data[filtered_entries]\n",
    "\n",
    "new_df.shape"
   ]
  },
  {
   "cell_type": "markdown",
   "metadata": {},
   "source": [
    "### Score column consists some outliers\n",
    "Tried to remove outliers using quantile method, but if we take 24 percentile and 75 percentile and compute IQR, it removes 200126 records from the dataset.\n",
    "If we take 25 and 75 percentile, it removes more records and we do not get 1 million records for processing. So 24 and 75 percentile is considered."
   ]
  },
  {
   "cell_type": "code",
   "execution_count": 27,
   "metadata": {},
   "outputs": [
    {
     "name": "stdout",
     "output_type": "stream",
     "text": [
      "8.0\n",
      "10.0\n",
      "2.0\n"
     ]
    }
   ],
   "source": [
    "Q1=rec_Data['score'].quantile(0.24)\n",
    "Q3=rec_Data['score'].quantile(0.75)\n",
    "IQR=Q3-Q1\n",
    "print(Q1)\n",
    "print(Q3)\n",
    "print(IQR)\n"
   ]
  },
  {
   "cell_type": "code",
   "execution_count": 28,
   "metadata": {},
   "outputs": [
    {
     "name": "stdout",
     "output_type": "stream",
     "text": [
      "5.0 13.0\n"
     ]
    }
   ],
   "source": [
    "Lower_Whisker = Q1-1.5*IQR\n",
    "Upper_Whisker = Q3+1.5*IQR\n",
    "print(Lower_Whisker, Upper_Whisker)"
   ]
  },
  {
   "cell_type": "code",
   "execution_count": 29,
   "metadata": {},
   "outputs": [
    {
     "data": {
      "text/plain": [
       "(200126, 11)"
      ]
     },
     "execution_count": 29,
     "metadata": {},
     "output_type": "execute_result"
    }
   ],
   "source": [
    "rec_Data[rec_Data['score']<=Lower_Whisker].shape"
   ]
  },
  {
   "cell_type": "code",
   "execution_count": null,
   "metadata": {},
   "outputs": [],
   "source": []
  },
  {
   "cell_type": "code",
   "execution_count": 30,
   "metadata": {},
   "outputs": [
    {
     "data": {
      "text/plain": [
       "(200126, 11)"
      ]
     },
     "execution_count": 30,
     "metadata": {},
     "output_type": "execute_result"
    }
   ],
   "source": [
    "data_new1 = rec_Data[rec_Data['score']<=Lower_Whisker]\n",
    "data_new1.shape"
   ]
  },
  {
   "cell_type": "code",
   "execution_count": 31,
   "metadata": {},
   "outputs": [],
   "source": [
    "rec_Data_new = rec_Data[rec_Data['score']> Lower_Whisker]"
   ]
  },
  {
   "cell_type": "code",
   "execution_count": 32,
   "metadata": {},
   "outputs": [
    {
     "data": {
      "text/plain": [
       "(1327321, 11)"
      ]
     },
     "execution_count": 32,
     "metadata": {},
     "output_type": "execute_result"
    }
   ],
   "source": [
    "rec_Data.shape"
   ]
  },
  {
   "cell_type": "code",
   "execution_count": 33,
   "metadata": {},
   "outputs": [],
   "source": [
    "#Keep only 1000000 data samples. Use random state=612\n",
    "rec_Data = rec_Data.sample(n=1000000,random_state=612)"
   ]
  },
  {
   "cell_type": "code",
   "execution_count": 34,
   "metadata": {},
   "outputs": [
    {
     "data": {
      "text/plain": [
       "(1000000, 11)"
      ]
     },
     "execution_count": 34,
     "metadata": {},
     "output_type": "execute_result"
    }
   ],
   "source": [
    "rec_Data.shape"
   ]
  },
  {
   "cell_type": "markdown",
   "metadata": {},
   "source": [
    "### Dataset after applying Task 1 step1 to step 7 "
   ]
  },
  {
   "cell_type": "code",
   "execution_count": 35,
   "metadata": {},
   "outputs": [
    {
     "data": {
      "text/html": [
       "<div>\n",
       "<style scoped>\n",
       "    .dataframe tbody tr th:only-of-type {\n",
       "        vertical-align: middle;\n",
       "    }\n",
       "\n",
       "    .dataframe tbody tr th {\n",
       "        vertical-align: top;\n",
       "    }\n",
       "\n",
       "    .dataframe thead th {\n",
       "        text-align: right;\n",
       "    }\n",
       "</style>\n",
       "<table border=\"1\" class=\"dataframe\">\n",
       "  <thead>\n",
       "    <tr style=\"text-align: right;\">\n",
       "      <th></th>\n",
       "      <th>phone_url</th>\n",
       "      <th>date</th>\n",
       "      <th>lang</th>\n",
       "      <th>country</th>\n",
       "      <th>source</th>\n",
       "      <th>domain</th>\n",
       "      <th>score</th>\n",
       "      <th>score_max</th>\n",
       "      <th>extract</th>\n",
       "      <th>author</th>\n",
       "      <th>product</th>\n",
       "    </tr>\n",
       "  </thead>\n",
       "  <tbody>\n",
       "    <tr>\n",
       "      <th>99002</th>\n",
       "      <td>/cellphones/sony-xperia-z1-compact-d5503/</td>\n",
       "      <td>3/27/2014</td>\n",
       "      <td>en</td>\n",
       "      <td>us</td>\n",
       "      <td>Amazon</td>\n",
       "      <td>amazon.com</td>\n",
       "      <td>10.0</td>\n",
       "      <td>10.0</td>\n",
       "      <td>I'd only owned Samsung before. But Sony is rea...</td>\n",
       "      <td>Barry T.</td>\n",
       "      <td>Sony Xperia Z1 Compact D5503 Android Smartphon...</td>\n",
       "    </tr>\n",
       "    <tr>\n",
       "      <th>236502</th>\n",
       "      <td>/cellphones/doro-liberto-820/</td>\n",
       "      <td>12/6/2014</td>\n",
       "      <td>en</td>\n",
       "      <td>gb</td>\n",
       "      <td>Amazon</td>\n",
       "      <td>amazon.co.uk</td>\n",
       "      <td>10.0</td>\n",
       "      <td>10.0</td>\n",
       "      <td>My savvy grandson bought this for me as a suit...</td>\n",
       "      <td>Robert Harris</td>\n",
       "      <td>Doro Liberto 820 SIM-Free Smartphone - Black/S...</td>\n",
       "    </tr>\n",
       "    <tr>\n",
       "      <th>99154</th>\n",
       "      <td>/cellphones/samsung-galaxy-ace-s5830/</td>\n",
       "      <td>12/10/2013</td>\n",
       "      <td>fr</td>\n",
       "      <td>fr</td>\n",
       "      <td>Ciao</td>\n",
       "      <td>ciao.fr</td>\n",
       "      <td>4.0</td>\n",
       "      <td>10.0</td>\n",
       "      <td>Je rejoins l'avis prÃ©cÃ©dent! Au dÃ©part, je ...</td>\n",
       "      <td>llunell</td>\n",
       "      <td>Samsung Galaxy Ace S5830i</td>\n",
       "    </tr>\n",
       "    <tr>\n",
       "      <th>147653</th>\n",
       "      <td>/cellphones/htc-desire-10-lifestyle/</td>\n",
       "      <td>11/23/2016</td>\n",
       "      <td>en</td>\n",
       "      <td>in</td>\n",
       "      <td>Amazon</td>\n",
       "      <td>amazon.in</td>\n",
       "      <td>10.0</td>\n",
       "      <td>10.0</td>\n",
       "      <td>very good product from HTC</td>\n",
       "      <td>Amazon Customer</td>\n",
       "      <td>HTC Desire 10 Lifestyle (Polar White, 32 GB) -...</td>\n",
       "    </tr>\n",
       "    <tr>\n",
       "      <th>143947</th>\n",
       "      <td>/cellphones/samsung-galaxy-a5-2016/</td>\n",
       "      <td>7/22/2016</td>\n",
       "      <td>ru</td>\n",
       "      <td>ru</td>\n",
       "      <td>Yandex</td>\n",
       "      <td>market.yandex.ru</td>\n",
       "      <td>10.0</td>\n",
       "      <td>10.0</td>\n",
       "      <td>Ñ",
       "Ð¾ÑÐ¾ÑÐ¸Ð¹ ÑÐµÐ»ÐµÑÐ¾Ð½. Ð·Ð¼Ð¾Ð¶Ð½Ð¾ Ð½...</td>\n",
       "      <td>lizerginiy</td>\n",
       "      <td>Samsung Galaxy A5 (2016) SM-A510F</td>\n",
       "    </tr>\n",
       "  </tbody>\n",
       "</table>\n",
       "</div>"
      ],
      "text/plain": [
       "                                        phone_url        date lang country  \\\n",
       "99002   /cellphones/sony-xperia-z1-compact-d5503/   3/27/2014   en      us   \n",
       "236502              /cellphones/doro-liberto-820/   12/6/2014   en      gb   \n",
       "99154       /cellphones/samsung-galaxy-ace-s5830/  12/10/2013   fr      fr   \n",
       "147653       /cellphones/htc-desire-10-lifestyle/  11/23/2016   en      in   \n",
       "143947        /cellphones/samsung-galaxy-a5-2016/   7/22/2016   ru      ru   \n",
       "\n",
       "        source            domain  score  score_max  \\\n",
       "99002   Amazon        amazon.com   10.0       10.0   \n",
       "236502  Amazon      amazon.co.uk   10.0       10.0   \n",
       "99154     Ciao           ciao.fr    4.0       10.0   \n",
       "147653  Amazon         amazon.in   10.0       10.0   \n",
       "143947  Yandex  market.yandex.ru   10.0       10.0   \n",
       "\n",
       "                                                  extract           author  \\\n",
       "99002   I'd only owned Samsung before. But Sony is rea...         Barry T.   \n",
       "236502  My savvy grandson bought this for me as a suit...    Robert Harris   \n",
       "99154   Je rejoins l'avis prÃ©cÃ©dent! Au dÃ©part, je ...          llunell   \n",
       "147653                         very good product from HTC  Amazon Customer   \n",
       "143947  Ñ\n",
       "Ð¾ÑÐ¾ÑÐ¸Ð¹ ÑÐµÐ»ÐµÑÐ¾Ð½. Ð·Ð¼Ð¾Ð¶Ð½Ð¾ Ð½...       lizerginiy   \n",
       "\n",
       "                                                  product  \n",
       "99002   Sony Xperia Z1 Compact D5503 Android Smartphon...  \n",
       "236502  Doro Liberto 820 SIM-Free Smartphone - Black/S...  \n",
       "99154                           Samsung Galaxy Ace S5830i  \n",
       "147653  HTC Desire 10 Lifestyle (Polar White, 32 GB) -...  \n",
       "143947                  Samsung Galaxy A5 (2016) SM-A510F  "
      ]
     },
     "execution_count": 35,
     "metadata": {},
     "output_type": "execute_result"
    }
   ],
   "source": [
    "rec_Data.head()"
   ]
  },
  {
   "cell_type": "code",
   "execution_count": 36,
   "metadata": {},
   "outputs": [
    {
     "data": {
      "text/plain": [
       "Index(['phone_url', 'date', 'lang', 'country', 'source', 'domain', 'score',\n",
       "       'score_max', 'extract', 'author', 'product'],\n",
       "      dtype='object')"
      ]
     },
     "execution_count": 36,
     "metadata": {},
     "output_type": "execute_result"
    }
   ],
   "source": [
    "rec_Data.columns"
   ]
  },
  {
   "cell_type": "code",
   "execution_count": 37,
   "metadata": {},
   "outputs": [
    {
     "data": {
      "text/plain": [
       "99002     I'd only owned Samsung before. But Sony is rea...\n",
       "236502    My savvy grandson bought this for me as a suit...\n",
       "99154     Je rejoins l'avis prÃ©cÃ©dent! Au dÃ©part, je ...\n",
       "147653                           very good product from HTC\n",
       "143947    Ñ\n",
       "Ð¾ÑÐ¾ÑÐ¸Ð¹ ÑÐµÐ»ÐµÑÐ¾Ð½. Ð·Ð¼Ð¾Ð¶Ð½Ð¾ Ð½...\n",
       "                                ...                        \n",
       "72988     Es rapido rapido rapido Mejorable la calidad d...\n",
       "186598    Great feel...Ease of use...Speed...Free music(...\n",
       "254554    Ho comprato HTC One nell passato e mi sono tro...\n",
       "83277     top toestel werkt super goed. in het begin was...\n",
       "267651    Ik ben zeer tevreden over mijn nieuwe iPhone. ...\n",
       "Name: extract, Length: 1000000, dtype: object"
      ]
     },
     "execution_count": 37,
     "metadata": {},
     "output_type": "execute_result"
    }
   ],
   "source": [
    "rec_Data['extract']"
   ]
  },
  {
   "cell_type": "code",
   "execution_count": 38,
   "metadata": {},
   "outputs": [],
   "source": [
    "#Drop irrelevant features. Keep features like Author, Product, and Score.\n",
    "column_list = ['phone_url','date','lang','country','source','domain']\n",
    "rec_Data.drop(column_list,axis=1,inplace=True)\n"
   ]
  },
  {
   "cell_type": "code",
   "execution_count": 39,
   "metadata": {},
   "outputs": [],
   "source": [
    "rec_Data.reset_index(drop=False,inplace=True)"
   ]
  },
  {
   "cell_type": "code",
   "execution_count": 40,
   "metadata": {},
   "outputs": [
    {
     "data": {
      "text/html": [
       "<div>\n",
       "<style scoped>\n",
       "    .dataframe tbody tr th:only-of-type {\n",
       "        vertical-align: middle;\n",
       "    }\n",
       "\n",
       "    .dataframe tbody tr th {\n",
       "        vertical-align: top;\n",
       "    }\n",
       "\n",
       "    .dataframe thead th {\n",
       "        text-align: right;\n",
       "    }\n",
       "</style>\n",
       "<table border=\"1\" class=\"dataframe\">\n",
       "  <thead>\n",
       "    <tr style=\"text-align: right;\">\n",
       "      <th></th>\n",
       "      <th>index</th>\n",
       "      <th>score</th>\n",
       "      <th>score_max</th>\n",
       "      <th>extract</th>\n",
       "      <th>author</th>\n",
       "      <th>product</th>\n",
       "    </tr>\n",
       "  </thead>\n",
       "  <tbody>\n",
       "    <tr>\n",
       "      <th>0</th>\n",
       "      <td>99002</td>\n",
       "      <td>10.0</td>\n",
       "      <td>10.0</td>\n",
       "      <td>I'd only owned Samsung before. But Sony is rea...</td>\n",
       "      <td>Barry T.</td>\n",
       "      <td>Sony Xperia Z1 Compact D5503 Android Smartphon...</td>\n",
       "    </tr>\n",
       "    <tr>\n",
       "      <th>1</th>\n",
       "      <td>236502</td>\n",
       "      <td>10.0</td>\n",
       "      <td>10.0</td>\n",
       "      <td>My savvy grandson bought this for me as a suit...</td>\n",
       "      <td>Robert Harris</td>\n",
       "      <td>Doro Liberto 820 SIM-Free Smartphone - Black/S...</td>\n",
       "    </tr>\n",
       "    <tr>\n",
       "      <th>2</th>\n",
       "      <td>99154</td>\n",
       "      <td>4.0</td>\n",
       "      <td>10.0</td>\n",
       "      <td>Je rejoins l'avis prÃ©cÃ©dent! Au dÃ©part, je ...</td>\n",
       "      <td>llunell</td>\n",
       "      <td>Samsung Galaxy Ace S5830i</td>\n",
       "    </tr>\n",
       "    <tr>\n",
       "      <th>3</th>\n",
       "      <td>147653</td>\n",
       "      <td>10.0</td>\n",
       "      <td>10.0</td>\n",
       "      <td>very good product from HTC</td>\n",
       "      <td>Amazon Customer</td>\n",
       "      <td>HTC Desire 10 Lifestyle (Polar White, 32 GB) -...</td>\n",
       "    </tr>\n",
       "    <tr>\n",
       "      <th>4</th>\n",
       "      <td>143947</td>\n",
       "      <td>10.0</td>\n",
       "      <td>10.0</td>\n",
       "      <td>Ñ",
       "Ð¾ÑÐ¾ÑÐ¸Ð¹ ÑÐµÐ»ÐµÑÐ¾Ð½. Ð·Ð¼Ð¾Ð¶Ð½Ð¾ Ð½...</td>\n",
       "      <td>lizerginiy</td>\n",
       "      <td>Samsung Galaxy A5 (2016) SM-A510F</td>\n",
       "    </tr>\n",
       "  </tbody>\n",
       "</table>\n",
       "</div>"
      ],
      "text/plain": [
       "    index  score  score_max  \\\n",
       "0   99002   10.0       10.0   \n",
       "1  236502   10.0       10.0   \n",
       "2   99154    4.0       10.0   \n",
       "3  147653   10.0       10.0   \n",
       "4  143947   10.0       10.0   \n",
       "\n",
       "                                             extract           author  \\\n",
       "0  I'd only owned Samsung before. But Sony is rea...         Barry T.   \n",
       "1  My savvy grandson bought this for me as a suit...    Robert Harris   \n",
       "2  Je rejoins l'avis prÃ©cÃ©dent! Au dÃ©part, je ...          llunell   \n",
       "3                         very good product from HTC  Amazon Customer   \n",
       "4  Ñ\n",
       "Ð¾ÑÐ¾ÑÐ¸Ð¹ ÑÐµÐ»ÐµÑÐ¾Ð½. Ð·Ð¼Ð¾Ð¶Ð½Ð¾ Ð½...       lizerginiy   \n",
       "\n",
       "                                             product  \n",
       "0  Sony Xperia Z1 Compact D5503 Android Smartphon...  \n",
       "1  Doro Liberto 820 SIM-Free Smartphone - Black/S...  \n",
       "2                          Samsung Galaxy Ace S5830i  \n",
       "3  HTC Desire 10 Lifestyle (Polar White, 32 GB) -...  \n",
       "4                  Samsung Galaxy A5 (2016) SM-A510F  "
      ]
     },
     "execution_count": 40,
     "metadata": {},
     "output_type": "execute_result"
    }
   ],
   "source": [
    "rec_Data.head()"
   ]
  },
  {
   "cell_type": "code",
   "execution_count": 41,
   "metadata": {},
   "outputs": [],
   "source": [
    "rec_Data.drop('index',axis=1,inplace=True)"
   ]
  },
  {
   "cell_type": "code",
   "execution_count": 42,
   "metadata": {},
   "outputs": [
    {
     "data": {
      "text/html": [
       "<div>\n",
       "<style scoped>\n",
       "    .dataframe tbody tr th:only-of-type {\n",
       "        vertical-align: middle;\n",
       "    }\n",
       "\n",
       "    .dataframe tbody tr th {\n",
       "        vertical-align: top;\n",
       "    }\n",
       "\n",
       "    .dataframe thead th {\n",
       "        text-align: right;\n",
       "    }\n",
       "</style>\n",
       "<table border=\"1\" class=\"dataframe\">\n",
       "  <thead>\n",
       "    <tr style=\"text-align: right;\">\n",
       "      <th></th>\n",
       "      <th>score</th>\n",
       "      <th>score_max</th>\n",
       "      <th>extract</th>\n",
       "      <th>author</th>\n",
       "      <th>product</th>\n",
       "    </tr>\n",
       "  </thead>\n",
       "  <tbody>\n",
       "    <tr>\n",
       "      <th>0</th>\n",
       "      <td>10.0</td>\n",
       "      <td>10.0</td>\n",
       "      <td>I'd only owned Samsung before. But Sony is rea...</td>\n",
       "      <td>Barry T.</td>\n",
       "      <td>Sony Xperia Z1 Compact D5503 Android Smartphon...</td>\n",
       "    </tr>\n",
       "    <tr>\n",
       "      <th>1</th>\n",
       "      <td>10.0</td>\n",
       "      <td>10.0</td>\n",
       "      <td>My savvy grandson bought this for me as a suit...</td>\n",
       "      <td>Robert Harris</td>\n",
       "      <td>Doro Liberto 820 SIM-Free Smartphone - Black/S...</td>\n",
       "    </tr>\n",
       "    <tr>\n",
       "      <th>2</th>\n",
       "      <td>4.0</td>\n",
       "      <td>10.0</td>\n",
       "      <td>Je rejoins l'avis prÃ©cÃ©dent! Au dÃ©part, je ...</td>\n",
       "      <td>llunell</td>\n",
       "      <td>Samsung Galaxy Ace S5830i</td>\n",
       "    </tr>\n",
       "    <tr>\n",
       "      <th>3</th>\n",
       "      <td>10.0</td>\n",
       "      <td>10.0</td>\n",
       "      <td>very good product from HTC</td>\n",
       "      <td>Amazon Customer</td>\n",
       "      <td>HTC Desire 10 Lifestyle (Polar White, 32 GB) -...</td>\n",
       "    </tr>\n",
       "    <tr>\n",
       "      <th>4</th>\n",
       "      <td>10.0</td>\n",
       "      <td>10.0</td>\n",
       "      <td>Ñ",
       "Ð¾ÑÐ¾ÑÐ¸Ð¹ ÑÐµÐ»ÐµÑÐ¾Ð½. Ð·Ð¼Ð¾Ð¶Ð½Ð¾ Ð½...</td>\n",
       "      <td>lizerginiy</td>\n",
       "      <td>Samsung Galaxy A5 (2016) SM-A510F</td>\n",
       "    </tr>\n",
       "  </tbody>\n",
       "</table>\n",
       "</div>"
      ],
      "text/plain": [
       "   score  score_max                                            extract  \\\n",
       "0   10.0       10.0  I'd only owned Samsung before. But Sony is rea...   \n",
       "1   10.0       10.0  My savvy grandson bought this for me as a suit...   \n",
       "2    4.0       10.0  Je rejoins l'avis prÃ©cÃ©dent! Au dÃ©part, je ...   \n",
       "3   10.0       10.0                         very good product from HTC   \n",
       "4   10.0       10.0  Ñ\n",
       "Ð¾ÑÐ¾ÑÐ¸Ð¹ ÑÐµÐ»ÐµÑÐ¾Ð½. Ð·Ð¼Ð¾Ð¶Ð½Ð¾ Ð½...   \n",
       "\n",
       "            author                                            product  \n",
       "0         Barry T.  Sony Xperia Z1 Compact D5503 Android Smartphon...  \n",
       "1    Robert Harris  Doro Liberto 820 SIM-Free Smartphone - Black/S...  \n",
       "2          llunell                          Samsung Galaxy Ace S5830i  \n",
       "3  Amazon Customer  HTC Desire 10 Lifestyle (Polar White, 32 GB) -...  \n",
       "4       lizerginiy                  Samsung Galaxy A5 (2016) SM-A510F  "
      ]
     },
     "execution_count": 42,
     "metadata": {},
     "output_type": "execute_result"
    }
   ],
   "source": [
    "rec_Data.head()"
   ]
  },
  {
   "cell_type": "markdown",
   "metadata": {},
   "source": [
    "#### Task 2: Answer the following questions\n",
    "##### 1. Identify the most rated features.\n",
    "##### 2. Identify the users with most number of reviews.\n",
    "##### 3. Select the data with products having more than 50 ratings and users who have given more than 50 ratings. Report the shape of the final dataset."
   ]
  },
  {
   "cell_type": "code",
   "execution_count": 43,
   "metadata": {},
   "outputs": [],
   "source": [
    "# to lower case\n",
    "rec_Data['author'] = rec_Data['author'].map(lambda x: x.lower())"
   ]
  },
  {
   "cell_type": "code",
   "execution_count": 44,
   "metadata": {},
   "outputs": [],
   "source": [
    "rec_Data['product'] = rec_Data['product'].map(lambda x: x.lower())"
   ]
  },
  {
   "cell_type": "code",
   "execution_count": 45,
   "metadata": {},
   "outputs": [],
   "source": [
    "for index, row in rec_Data.iterrows():\n",
    "    row['author'] = [x.lower().replace(' ','') for x in row['author']]\n",
    "    row['product'] = ''.join(row['product']).lower()"
   ]
  },
  {
   "cell_type": "code",
   "execution_count": 46,
   "metadata": {},
   "outputs": [
    {
     "data": {
      "text/plain": [
       "0         sony xperia z1 compact d5503 android smartphon...\n",
       "1         doro liberto 820 sim-free smartphone - black/s...\n",
       "2                                 samsung galaxy ace s5830i\n",
       "3         htc desire 10 lifestyle (polar white, 32 gb) -...\n",
       "4                         samsung galaxy a5 (2016) sm-a510f\n",
       "                                ...                        \n",
       "999995    lg google nexus 5 - smartphone libre android (...\n",
       "999996                     google pixel xl, phone by google\n",
       "999997    htc one mini smartphone (10,9 cm (4,3 pollici)...\n",
       "999998                     samsung galaxy s6 edge 32gb gold\n",
       "999999                            apple iphone 6 16gb black\n",
       "Name: product, Length: 1000000, dtype: object"
      ]
     },
     "execution_count": 46,
     "metadata": {},
     "output_type": "execute_result"
    }
   ],
   "source": [
    "rec_Data['product']"
   ]
  },
  {
   "cell_type": "markdown",
   "metadata": {},
   "source": [
    "#### Top 10 products with maximam reviews"
   ]
  },
  {
   "cell_type": "code",
   "execution_count": 47,
   "metadata": {},
   "outputs": [
    {
     "data": {
      "text/plain": [
       "product\n",
       "lenovo vibe k4 note (white,16gb)     3929\n",
       "lenovo vibe k4 note (black, 16gb)    3238\n",
       "oneplus 3 (graphite, 64 gb)          3142\n",
       "oneplus 3 (soft gold, 64 gb)         2643\n",
       "samsung galaxy express i8730         2028\n",
       "Name: score, dtype: int64"
      ]
     },
     "execution_count": 47,
     "metadata": {},
     "output_type": "execute_result"
    }
   ],
   "source": [
    "rec_Data.groupby('product')['score'].count().sort_values(ascending=False).head(5)"
   ]
  },
  {
   "cell_type": "code",
   "execution_count": 48,
   "metadata": {},
   "outputs": [
    {
     "data": {
      "text/plain": [
       "product\n",
       "ùø§ùø§ùù p9 ø¨ùùø³ - 64 ø¬ùø¬ø§ø¨ø§ùøªø ùùø± ø¬ù ø§ù øªù ø§ùø ùø§ù ùø§ùø ø°ùø¨ù    10.0\n",
       "google huawei nexus 6p                                                                                    10.0\n",
       "samsung galaxy s7 pink gold                                                                               10.0\n",
       "samsung galaxy s7 g930f 32gb single sim unlocked phone - retail packaging - gold                          10.0\n",
       "samsung galaxy s7 g930f 32gb mobiltelefon                                                                 10.0\n",
       "Name: score, dtype: float64"
      ]
     },
     "execution_count": 48,
     "metadata": {},
     "output_type": "execute_result"
    }
   ],
   "source": [
    "rec_Data.groupby('product')['score'].mean().sort_values(ascending=False).head(5)"
   ]
  },
  {
   "cell_type": "code",
   "execution_count": 49,
   "metadata": {},
   "outputs": [
    {
     "data": {
      "text/plain": [
       "Index(['score', 'product', 'rating_count', 'cum_rating'], dtype='object')"
      ]
     },
     "execution_count": 49,
     "metadata": {},
     "output_type": "execute_result"
    }
   ],
   "source": [
    "new_Data = pd.DataFrame(rec_Data.groupby('product')['score'].mean())\n",
    "new_Data['product'] = rec_Data.groupby('product')['product']\n",
    "new_Data['rating_count'] = rec_Data.groupby('product')['score'].count()\n",
    "new_Data['cum_rating'] = rec_Data.groupby('product')['score'].sum()/rec_Data.shape[0]\n",
    "new_Data.columns"
   ]
  },
  {
   "cell_type": "code",
   "execution_count": 50,
   "metadata": {},
   "outputs": [
    {
     "data": {
      "text/html": [
       "<div>\n",
       "<style scoped>\n",
       "    .dataframe tbody tr th:only-of-type {\n",
       "        vertical-align: middle;\n",
       "    }\n",
       "\n",
       "    .dataframe tbody tr th {\n",
       "        vertical-align: top;\n",
       "    }\n",
       "\n",
       "    .dataframe thead th {\n",
       "        text-align: right;\n",
       "    }\n",
       "</style>\n",
       "<table border=\"1\" class=\"dataframe\">\n",
       "  <thead>\n",
       "    <tr style=\"text-align: right;\">\n",
       "      <th></th>\n",
       "      <th>score</th>\n",
       "      <th>product</th>\n",
       "      <th>rating_count</th>\n",
       "      <th>cum_rating</th>\n",
       "    </tr>\n",
       "    <tr>\n",
       "      <th>product</th>\n",
       "      <th></th>\n",
       "      <th></th>\n",
       "      <th></th>\n",
       "      <th></th>\n",
       "    </tr>\n",
       "  </thead>\n",
       "  <tbody>\n",
       "    <tr>\n",
       "      <th>lenovo vibe k4 note (white,16gb)</th>\n",
       "      <td>7.222194</td>\n",
       "      <td>(lenovo vibe k4 note (white,16gb), [lenovo vib...</td>\n",
       "      <td>3929</td>\n",
       "      <td>0.028376</td>\n",
       "    </tr>\n",
       "    <tr>\n",
       "      <th>oneplus 3 (graphite, 64 gb)</th>\n",
       "      <td>8.707193</td>\n",
       "      <td>(oneplus 3 (graphite, 64 gb), [oneplus 3 (grap...</td>\n",
       "      <td>3142</td>\n",
       "      <td>0.027358</td>\n",
       "    </tr>\n",
       "    <tr>\n",
       "      <th>lenovo vibe k4 note (black, 16gb)</th>\n",
       "      <td>7.205683</td>\n",
       "      <td>(lenovo vibe k4 note (black, 16gb), [lenovo vi...</td>\n",
       "      <td>3238</td>\n",
       "      <td>0.023332</td>\n",
       "    </tr>\n",
       "    <tr>\n",
       "      <th>oneplus 3 (soft gold, 64 gb)</th>\n",
       "      <td>8.501703</td>\n",
       "      <td>(oneplus 3 (soft gold, 64 gb), [oneplus 3 (sof...</td>\n",
       "      <td>2643</td>\n",
       "      <td>0.022470</td>\n",
       "    </tr>\n",
       "    <tr>\n",
       "      <th>samsung galaxy express i8730</th>\n",
       "      <td>8.988166</td>\n",
       "      <td>(samsung galaxy express i8730, [samsung galaxy...</td>\n",
       "      <td>2028</td>\n",
       "      <td>0.018228</td>\n",
       "    </tr>\n",
       "  </tbody>\n",
       "</table>\n",
       "</div>"
      ],
      "text/plain": [
       "                                      score  \\\n",
       "product                                       \n",
       "lenovo vibe k4 note (white,16gb)   7.222194   \n",
       "oneplus 3 (graphite, 64 gb)        8.707193   \n",
       "lenovo vibe k4 note (black, 16gb)  7.205683   \n",
       "oneplus 3 (soft gold, 64 gb)       8.501703   \n",
       "samsung galaxy express i8730       8.988166   \n",
       "\n",
       "                                                                             product  \\\n",
       "product                                                                                \n",
       "lenovo vibe k4 note (white,16gb)   (lenovo vibe k4 note (white,16gb), [lenovo vib...   \n",
       "oneplus 3 (graphite, 64 gb)        (oneplus 3 (graphite, 64 gb), [oneplus 3 (grap...   \n",
       "lenovo vibe k4 note (black, 16gb)  (lenovo vibe k4 note (black, 16gb), [lenovo vi...   \n",
       "oneplus 3 (soft gold, 64 gb)       (oneplus 3 (soft gold, 64 gb), [oneplus 3 (sof...   \n",
       "samsung galaxy express i8730       (samsung galaxy express i8730, [samsung galaxy...   \n",
       "\n",
       "                                   rating_count  cum_rating  \n",
       "product                                                      \n",
       "lenovo vibe k4 note (white,16gb)           3929    0.028376  \n",
       "oneplus 3 (graphite, 64 gb)                3142    0.027358  \n",
       "lenovo vibe k4 note (black, 16gb)          3238    0.023332  \n",
       "oneplus 3 (soft gold, 64 gb)               2643    0.022470  \n",
       "samsung galaxy express i8730               2028    0.018228  "
      ]
     },
     "execution_count": 50,
     "metadata": {},
     "output_type": "execute_result"
    }
   ],
   "source": [
    "new_Data.sort_values(by=['cum_rating','score'],ascending=False).head(5)"
   ]
  },
  {
   "cell_type": "markdown",
   "metadata": {},
   "source": [
    "#### 2. Top 10 users with maximam ratings"
   ]
  },
  {
   "cell_type": "code",
   "execution_count": null,
   "metadata": {},
   "outputs": [],
   "source": [
    "rec_Data.groupby('author')['score'].count().sort_values(ascending=False).head(10)"
   ]
  },
  {
   "cell_type": "code",
   "execution_count": 52,
   "metadata": {},
   "outputs": [
    {
     "data": {
      "image/png": "[encoded data removed]",
      "text/plain": [
       "<Figure size 432x288 with 1 Axes>"
      ]
     },
     "metadata": {
      "needs_background": "light"
     },
     "output_type": "display_data"
    }
   ],
   "source": [
    "rec_Data.score.value_counts().plot(kind='bar')\n",
    "plt.show()"
   ]
  },
  {
   "cell_type": "markdown",
   "metadata": {},
   "source": [
    "#### Identify the most rated features."
   ]
  },
  {
   "cell_type": "code",
   "execution_count": 53,
   "metadata": {},
   "outputs": [],
   "source": [
    "from sklearn.feature_extraction.text import CountVectorizer"
   ]
  },
  {
   "cell_type": "code",
   "execution_count": 54,
   "metadata": {},
   "outputs": [],
   "source": [
    "# initialize vectorizer\n",
    "#vect = CountVectorizer(analyzer='word',ngram_range=(1,2),stop_words='english', min_df = 0.001)\n",
    "vect = CountVectorizer(analyzer='word',ngram_range=(1,2),stop_words='english', min_df = 0.002) #min_df - rare words , max_df - most used words\n",
    "#ngram_range = (1,2) - if used more than 1(value), lot of features or noise"
   ]
  },
  {
   "cell_type": "code",
   "execution_count": 55,
   "metadata": {},
   "outputs": [],
   "source": [
    "vect.fit(rec_Data['product'])\n",
    "product_matrix = vect.transform(rec_Data['product'])"
   ]
  },
  {
   "cell_type": "code",
   "execution_count": 56,
   "metadata": {},
   "outputs": [
    {
     "data": {
      "text/plain": [
       "(1000000, 935)"
      ]
     },
     "execution_count": 56,
     "metadata": {},
     "output_type": "execute_result"
    }
   ],
   "source": [
    "product_matrix.shape"
   ]
  },
  {
   "cell_type": "code",
   "execution_count": null,
   "metadata": {},
   "outputs": [],
   "source": [
    "# Find vocabulary\n",
    "features = vect.get_feature_names()\n",
    "#features"
   ]
  },
  {
   "cell_type": "code",
   "execution_count": 58,
   "metadata": {},
   "outputs": [
    {
     "data": {
      "text/plain": [
       "935"
      ]
     },
     "execution_count": 58,
     "metadata": {},
     "output_type": "execute_result"
    }
   ],
   "source": [
    "len(features)"
   ]
  },
  {
   "cell_type": "code",
   "execution_count": 59,
   "metadata": {},
   "outputs": [],
   "source": [
    "# confirm count of features in the corpus\n",
    "word_count = [rec_Data[\"product\"].str.contains(\"\\\\b\"+x+\"\\\\b\", case=False).sum() for x in features]\n",
    "word_count"
   ]
  },
  {
   "cell_type": "code",
   "execution_count": 60,
   "metadata": {},
   "outputs": [],
   "source": [
    "feature_list=[]\n",
    "count_list=[]\n",
    "for x,y in zip(features,word_count):\n",
    "    print (x,y,\"\\n\")\n",
    "    feature_list.append(x)\n",
    "    count_list.append(y)\n",
    "    "
   ]
  },
  {
   "cell_type": "markdown",
   "metadata": {},
   "source": [
    "### Top 10 features"
   ]
  },
  {
   "cell_type": "code",
   "execution_count": 61,
   "metadata": {},
   "outputs": [],
   "source": [
    "data = {'feature':feature_list,'counts':count_list}\n",
    "feature_Data=pd.DataFrame(data)\n",
    "feature_Data.sort_values(by='counts',ascending=False).head(10)"
   ]
  },
  {
   "cell_type": "markdown",
   "metadata": {},
   "source": [
    "#### 3. Select the data with products having more than 50 ratings and users who have given more than 50 ratings. Report the shape of the final dataset."
   ]
  },
  {
   "cell_type": "code",
   "execution_count": 62,
   "metadata": {},
   "outputs": [],
   "source": [
    "#selected_Data = rec_Data[rec_Data.groupby('product')['score'].count()>50]\n",
    "selected_Data = rec_Data.groupby('product').filter(lambda g:g.score.count()>50)"
   ]
  },
  {
   "cell_type": "code",
   "execution_count": 63,
   "metadata": {},
   "outputs": [
    {
     "data": {
      "text/plain": [
       "(570039, 5)"
      ]
     },
     "execution_count": 63,
     "metadata": {},
     "output_type": "execute_result"
    }
   ],
   "source": [
    "selected_Data.shape"
   ]
  },
  {
   "cell_type": "code",
   "execution_count": 64,
   "metadata": {},
   "outputs": [],
   "source": [
    "selected_Data = selected_Data.groupby('author').filter(lambda g:g.score.count()>50)"
   ]
  },
  {
   "cell_type": "code",
   "execution_count": 65,
   "metadata": {},
   "outputs": [
    {
     "data": {
      "text/html": [
       "<div>\n",
       "<style scoped>\n",
       "    .dataframe tbody tr th:only-of-type {\n",
       "        vertical-align: middle;\n",
       "    }\n",
       "\n",
       "    .dataframe tbody tr th {\n",
       "        vertical-align: top;\n",
       "    }\n",
       "\n",
       "    .dataframe thead th {\n",
       "        text-align: right;\n",
       "    }\n",
       "</style>\n",
       "<table border=\"1\" class=\"dataframe\">\n",
       "  <thead>\n",
       "    <tr style=\"text-align: right;\">\n",
       "      <th></th>\n",
       "      <th>score</th>\n",
       "      <th>score_max</th>\n",
       "      <th>extract</th>\n",
       "      <th>author</th>\n",
       "      <th>product</th>\n",
       "    </tr>\n",
       "  </thead>\n",
       "  <tbody>\n",
       "    <tr>\n",
       "      <th>3</th>\n",
       "      <td>10.0</td>\n",
       "      <td>10.0</td>\n",
       "      <td>very good product from HTC</td>\n",
       "      <td>amazon customer</td>\n",
       "      <td>htc desire 10 lifestyle (polar white, 32 gb) -...</td>\n",
       "    </tr>\n",
       "    <tr>\n",
       "      <th>33</th>\n",
       "      <td>10.0</td>\n",
       "      <td>10.0</td>\n",
       "      <td>Bonjour, La coque est parfaitement adaptÃ©e au...</td>\n",
       "      <td>client d'amazon</td>\n",
       "      <td>aicek coque samsung galaxy a3 2016, aicek etui...</td>\n",
       "    </tr>\n",
       "    <tr>\n",
       "      <th>44</th>\n",
       "      <td>8.0</td>\n",
       "      <td>10.0</td>\n",
       "      <td>Only heating issue other wise good product bes...</td>\n",
       "      <td>amazon customer</td>\n",
       "      <td>motorola moto g5 (3 gb, lunar grey)</td>\n",
       "    </tr>\n",
       "    <tr>\n",
       "      <th>51</th>\n",
       "      <td>4.0</td>\n",
       "      <td>10.0</td>\n",
       "      <td>Good budget smartphone but battery backup is poor</td>\n",
       "      <td>amazon customer</td>\n",
       "      <td>yu yunique yu4711 smartphone (black)</td>\n",
       "    </tr>\n",
       "    <tr>\n",
       "      <th>70</th>\n",
       "      <td>10.0</td>\n",
       "      <td>10.0</td>\n",
       "      <td>Ottimo prodotto, pienamente conforme alla desc...</td>\n",
       "      <td>massimiliano</td>\n",
       "      <td>samsung c3520, telefono cellulare, argento [ge...</td>\n",
       "    </tr>\n",
       "  </tbody>\n",
       "</table>\n",
       "</div>"
      ],
      "text/plain": [
       "    score  score_max                                            extract  \\\n",
       "3    10.0       10.0                         very good product from HTC   \n",
       "33   10.0       10.0  Bonjour, La coque est parfaitement adaptÃ©e au...   \n",
       "44    8.0       10.0  Only heating issue other wise good product bes...   \n",
       "51    4.0       10.0  Good budget smartphone but battery backup is poor   \n",
       "70   10.0       10.0  Ottimo prodotto, pienamente conforme alla desc...   \n",
       "\n",
       "             author                                            product  \n",
       "3   amazon customer  htc desire 10 lifestyle (polar white, 32 gb) -...  \n",
       "33  client d'amazon  aicek coque samsung galaxy a3 2016, aicek etui...  \n",
       "44  amazon customer                motorola moto g5 (3 gb, lunar grey)  \n",
       "51  amazon customer               yu yunique yu4711 smartphone (black)  \n",
       "70     massimiliano  samsung c3520, telefono cellulare, argento [ge...  "
      ]
     },
     "execution_count": 65,
     "metadata": {},
     "output_type": "execute_result"
    }
   ],
   "source": [
    "selected_Data.head()"
   ]
  },
  {
   "cell_type": "code",
   "execution_count": 66,
   "metadata": {},
   "outputs": [
    {
     "data": {
      "text/plain": [
       "(107734, 5)"
      ]
     },
     "execution_count": 66,
     "metadata": {},
     "output_type": "execute_result"
    }
   ],
   "source": [
    "selected_Data.shape"
   ]
  },
  {
   "cell_type": "markdown",
   "metadata": {},
   "source": [
    "### 3. Build a popularity based model and recommend top 5 mobile phones."
   ]
  },
  {
   "cell_type": "code",
   "execution_count": 67,
   "metadata": {},
   "outputs": [],
   "source": [
    "ratings_mean_count = pd.DataFrame(selected_Data.groupby('product')['score'].mean()) "
   ]
  },
  {
   "cell_type": "code",
   "execution_count": 68,
   "metadata": {},
   "outputs": [],
   "source": [
    "ratings_mean_count['rating_counts'] = pd.DataFrame(selected_Data.groupby('product')\\\n",
    "                                                   ['score'].count()) "
   ]
  },
  {
   "cell_type": "markdown",
   "metadata": {},
   "source": [
    "### Top 5 products based on highest ratings "
   ]
  },
  {
   "cell_type": "code",
   "execution_count": 69,
   "metadata": {},
   "outputs": [
    {
     "data": {
      "text/html": [
       "<div>\n",
       "<style scoped>\n",
       "    .dataframe tbody tr th:only-of-type {\n",
       "        vertical-align: middle;\n",
       "    }\n",
       "\n",
       "    .dataframe tbody tr th {\n",
       "        vertical-align: top;\n",
       "    }\n",
       "\n",
       "    .dataframe thead th {\n",
       "        text-align: right;\n",
       "    }\n",
       "</style>\n",
       "<table border=\"1\" class=\"dataframe\">\n",
       "  <thead>\n",
       "    <tr style=\"text-align: right;\">\n",
       "      <th></th>\n",
       "      <th>score</th>\n",
       "      <th>rating_counts</th>\n",
       "    </tr>\n",
       "    <tr>\n",
       "      <th>product</th>\n",
       "      <th></th>\n",
       "      <th></th>\n",
       "    </tr>\n",
       "  </thead>\n",
       "  <tbody>\n",
       "    <tr>\n",
       "      <th>samsung galaxy s plus gt-i9001</th>\n",
       "      <td>10.0</td>\n",
       "      <td>1</td>\n",
       "    </tr>\n",
       "    <tr>\n",
       "      <th>samsung i9000 galaxy s</th>\n",
       "      <td>10.0</td>\n",
       "      <td>2</td>\n",
       "    </tr>\n",
       "    <tr>\n",
       "      <th>samsung i9100 galaxy s ii</th>\n",
       "      <td>10.0</td>\n",
       "      <td>3</td>\n",
       "    </tr>\n",
       "    <tr>\n",
       "      <th>samsung galaxy s5 - blanc - smartphone</th>\n",
       "      <td>10.0</td>\n",
       "      <td>2</td>\n",
       "    </tr>\n",
       "    <tr>\n",
       "      <th>htc rhyme</th>\n",
       "      <td>10.0</td>\n",
       "      <td>2</td>\n",
       "    </tr>\n",
       "  </tbody>\n",
       "</table>\n",
       "</div>"
      ],
      "text/plain": [
       "                                        score  rating_counts\n",
       "product                                                     \n",
       "samsung galaxy s plus gt-i9001           10.0              1\n",
       "samsung i9000 galaxy s                   10.0              2\n",
       "samsung i9100 galaxy s ii                10.0              3\n",
       "samsung galaxy s5 - blanc - smartphone   10.0              2\n",
       "htc rhyme                                10.0              2"
      ]
     },
     "execution_count": 69,
     "metadata": {},
     "output_type": "execute_result"
    }
   ],
   "source": [
    "ratings_mean_count.sort_values(by='score',ascending=False).head()  "
   ]
  },
  {
   "cell_type": "markdown",
   "metadata": {},
   "source": [
    "### Top 5 products based on number of ratings"
   ]
  },
  {
   "cell_type": "code",
   "execution_count": 70,
   "metadata": {},
   "outputs": [
    {
     "data": {
      "text/html": [
       "<div>\n",
       "<style scoped>\n",
       "    .dataframe tbody tr th:only-of-type {\n",
       "        vertical-align: middle;\n",
       "    }\n",
       "\n",
       "    .dataframe tbody tr th {\n",
       "        vertical-align: top;\n",
       "    }\n",
       "\n",
       "    .dataframe thead th {\n",
       "        text-align: right;\n",
       "    }\n",
       "</style>\n",
       "<table border=\"1\" class=\"dataframe\">\n",
       "  <thead>\n",
       "    <tr style=\"text-align: right;\">\n",
       "      <th></th>\n",
       "      <th>score</th>\n",
       "      <th>rating_counts</th>\n",
       "    </tr>\n",
       "    <tr>\n",
       "      <th>product</th>\n",
       "      <th></th>\n",
       "      <th></th>\n",
       "    </tr>\n",
       "  </thead>\n",
       "  <tbody>\n",
       "    <tr>\n",
       "      <th>lenovo vibe k4 note (white,16gb)</th>\n",
       "      <td>7.078290</td>\n",
       "      <td>2363</td>\n",
       "    </tr>\n",
       "    <tr>\n",
       "      <th>lenovo vibe k4 note (black, 16gb)</th>\n",
       "      <td>7.081527</td>\n",
       "      <td>1938</td>\n",
       "    </tr>\n",
       "    <tr>\n",
       "      <th>oneplus 3 (graphite, 64 gb)</th>\n",
       "      <td>8.488326</td>\n",
       "      <td>1499</td>\n",
       "    </tr>\n",
       "    <tr>\n",
       "      <th>oneplus 3 (soft gold, 64 gb)</th>\n",
       "      <td>8.242921</td>\n",
       "      <td>1342</td>\n",
       "    </tr>\n",
       "    <tr>\n",
       "      <th>lenovo vibe k5 (gold, volte update)</th>\n",
       "      <td>6.656887</td>\n",
       "      <td>1227</td>\n",
       "    </tr>\n",
       "  </tbody>\n",
       "</table>\n",
       "</div>"
      ],
      "text/plain": [
       "                                        score  rating_counts\n",
       "product                                                     \n",
       "lenovo vibe k4 note (white,16gb)     7.078290           2363\n",
       "lenovo vibe k4 note (black, 16gb)    7.081527           1938\n",
       "oneplus 3 (graphite, 64 gb)          8.488326           1499\n",
       "oneplus 3 (soft gold, 64 gb)         8.242921           1342\n",
       "lenovo vibe k5 (gold, volte update)  6.656887           1227"
      ]
     },
     "execution_count": 70,
     "metadata": {},
     "output_type": "execute_result"
    }
   ],
   "source": [
    "ratings_mean_count.sort_values(by='rating_counts',ascending=False).head()  "
   ]
  },
  {
   "cell_type": "code",
   "execution_count": 71,
   "metadata": {},
   "outputs": [
    {
     "data": {
      "text/html": [
       "<div>\n",
       "<style scoped>\n",
       "    .dataframe tbody tr th:only-of-type {\n",
       "        vertical-align: middle;\n",
       "    }\n",
       "\n",
       "    .dataframe tbody tr th {\n",
       "        vertical-align: top;\n",
       "    }\n",
       "\n",
       "    .dataframe thead th {\n",
       "        text-align: right;\n",
       "    }\n",
       "</style>\n",
       "<table border=\"1\" class=\"dataframe\">\n",
       "  <thead>\n",
       "    <tr style=\"text-align: right;\">\n",
       "      <th></th>\n",
       "      <th>rating_counts</th>\n",
       "      <th>score</th>\n",
       "    </tr>\n",
       "    <tr>\n",
       "      <th>product</th>\n",
       "      <th></th>\n",
       "      <th></th>\n",
       "    </tr>\n",
       "  </thead>\n",
       "  <tbody>\n",
       "    <tr>\n",
       "      <th>5.5-inch unlocked lenovo a850 3g smartphone-(960x540) quad core 4gb mt6582m 1331mhz android 4.2 dual camera +dual sim -black (rooted + google play)</th>\n",
       "      <td>4.0</td>\n",
       "      <td>4.500000</td>\n",
       "    </tr>\n",
       "    <tr>\n",
       "      <th>access-discount samsung galaxy j3 2016 coque silicone gel tpu + film protection ecran en verre trempã© galaxy j3 (2016) j320f j3-6</th>\n",
       "      <td>58.0</td>\n",
       "      <td>6.551724</td>\n",
       "    </tr>\n",
       "    <tr>\n",
       "      <th>acer liquid</th>\n",
       "      <td>1.0</td>\n",
       "      <td>9.000000</td>\n",
       "    </tr>\n",
       "    <tr>\n",
       "      <th>acer liquid e</th>\n",
       "      <td>4.0</td>\n",
       "      <td>7.250000</td>\n",
       "    </tr>\n",
       "    <tr>\n",
       "      <th>acer liquid e2 duo 11,4 cm (4,5 zoll) smartphone (touchscreen, dual-sim, 1,2ghz quadcore prozessor, 1gb ram, 8 megapixel kamera, android 4.2) weiã</th>\n",
       "      <td>16.0</td>\n",
       "      <td>7.000000</td>\n",
       "    </tr>\n",
       "  </tbody>\n",
       "</table>\n",
       "</div>"
      ],
      "text/plain": [
       "                                                    rating_counts     score\n",
       "product                                                                    \n",
       "5.5-inch unlocked lenovo a850 3g smartphone-(96...            4.0  4.500000\n",
       "access-discount samsung galaxy j3 2016 coque si...           58.0  6.551724\n",
       "acer liquid                                                   1.0  9.000000\n",
       "acer liquid e                                                 4.0  7.250000\n",
       "acer liquid e2 duo 11,4 cm (4,5 zoll) smartphon...           16.0  7.000000"
      ]
     },
     "execution_count": 71,
     "metadata": {},
     "output_type": "execute_result"
    }
   ],
   "source": [
    "ratings_pivot = pd.pivot_table(data=ratings_mean_count, values=['rating_counts','score'], columns='product')    \n",
    "        \n",
    "ratings_pivot.transpose().head()  "
   ]
  },
  {
   "cell_type": "code",
   "execution_count": 72,
   "metadata": {},
   "outputs": [
    {
     "data": {
      "text/html": [
       "<div>\n",
       "<style scoped>\n",
       "    .dataframe tbody tr th:only-of-type {\n",
       "        vertical-align: middle;\n",
       "    }\n",
       "\n",
       "    .dataframe tbody tr th {\n",
       "        vertical-align: top;\n",
       "    }\n",
       "\n",
       "    .dataframe thead th {\n",
       "        text-align: right;\n",
       "    }\n",
       "</style>\n",
       "<table border=\"1\" class=\"dataframe\">\n",
       "  <thead>\n",
       "    <tr style=\"text-align: right;\">\n",
       "      <th></th>\n",
       "      <th>rating_counts</th>\n",
       "      <th>score</th>\n",
       "    </tr>\n",
       "    <tr>\n",
       "      <th>product</th>\n",
       "      <th></th>\n",
       "      <th></th>\n",
       "    </tr>\n",
       "  </thead>\n",
       "  <tbody>\n",
       "    <tr>\n",
       "      <th>lenovo vibe k4 note (white,16gb)</th>\n",
       "      <td>2363.0</td>\n",
       "      <td>7.078290</td>\n",
       "    </tr>\n",
       "    <tr>\n",
       "      <th>lenovo vibe k4 note (black, 16gb)</th>\n",
       "      <td>1938.0</td>\n",
       "      <td>7.081527</td>\n",
       "    </tr>\n",
       "    <tr>\n",
       "      <th>oneplus 3 (graphite, 64 gb)</th>\n",
       "      <td>1499.0</td>\n",
       "      <td>8.488326</td>\n",
       "    </tr>\n",
       "    <tr>\n",
       "      <th>oneplus 3 (soft gold, 64 gb)</th>\n",
       "      <td>1342.0</td>\n",
       "      <td>8.242921</td>\n",
       "    </tr>\n",
       "    <tr>\n",
       "      <th>lenovo vibe k5 (gold, volte update)</th>\n",
       "      <td>1227.0</td>\n",
       "      <td>6.656887</td>\n",
       "    </tr>\n",
       "  </tbody>\n",
       "</table>\n",
       "</div>"
      ],
      "text/plain": [
       "                                     rating_counts     score\n",
       "product                                                     \n",
       "lenovo vibe k4 note (white,16gb)            2363.0  7.078290\n",
       "lenovo vibe k4 note (black, 16gb)           1938.0  7.081527\n",
       "oneplus 3 (graphite, 64 gb)                 1499.0  8.488326\n",
       "oneplus 3 (soft gold, 64 gb)                1342.0  8.242921\n",
       "lenovo vibe k5 (gold, volte update)         1227.0  6.656887"
      ]
     },
     "execution_count": 72,
     "metadata": {},
     "output_type": "execute_result"
    }
   ],
   "source": [
    "ratings_pivot.transpose().sort_values(by='rating_counts',ascending=False).head()"
   ]
  },
  {
   "cell_type": "markdown",
   "metadata": {},
   "source": [
    "### 4. Build a collaborative filtering model using SVD. \n",
    "##### 1. You can use SVD from surprise or build it from scratch(Note: Incase you’re building it from scratch you can limit your data points to 5000 samples if you face memory issues). \n",
    "#### 2. Build a collaborative iltering model using kNNWithMeans from surprise. \n",
    "#### 3. You can try both user-based and item-based model."
   ]
  },
  {
   "cell_type": "markdown",
   "metadata": {},
   "source": [
    "### 1. Collaboartive filtering model using SVD from surprise."
   ]
  },
  {
   "cell_type": "code",
   "execution_count": 73,
   "metadata": {},
   "outputs": [],
   "source": [
    "from surprise import SVD\n",
    "from surprise import Dataset\n",
    "from surprise import Reader\n",
    "from surprise.model_selection import cross_validate, KFold\n",
    "from surprise import accuracy\n",
    "from surprise.model_selection import train_test_split"
   ]
  },
  {
   "cell_type": "code",
   "execution_count": 74,
   "metadata": {},
   "outputs": [
    {
     "data": {
      "text/html": [
       "<div>\n",
       "<style scoped>\n",
       "    .dataframe tbody tr th:only-of-type {\n",
       "        vertical-align: middle;\n",
       "    }\n",
       "\n",
       "    .dataframe tbody tr th {\n",
       "        vertical-align: top;\n",
       "    }\n",
       "\n",
       "    .dataframe thead th {\n",
       "        text-align: right;\n",
       "    }\n",
       "</style>\n",
       "<table border=\"1\" class=\"dataframe\">\n",
       "  <thead>\n",
       "    <tr style=\"text-align: right;\">\n",
       "      <th></th>\n",
       "      <th>score</th>\n",
       "      <th>score_max</th>\n",
       "      <th>extract</th>\n",
       "      <th>author</th>\n",
       "      <th>product</th>\n",
       "      <th>raw_ratings</th>\n",
       "    </tr>\n",
       "  </thead>\n",
       "  <tbody>\n",
       "    <tr>\n",
       "      <th>3</th>\n",
       "      <td>10.0</td>\n",
       "      <td>10.0</td>\n",
       "      <td>very good product from HTC</td>\n",
       "      <td>amazon customer</td>\n",
       "      <td>htc desire 10 lifestyle (polar white, 32 gb) -...</td>\n",
       "      <td>10.0</td>\n",
       "    </tr>\n",
       "    <tr>\n",
       "      <th>33</th>\n",
       "      <td>10.0</td>\n",
       "      <td>10.0</td>\n",
       "      <td>Bonjour, La coque est parfaitement adaptÃ©e au...</td>\n",
       "      <td>client d'amazon</td>\n",
       "      <td>aicek coque samsung galaxy a3 2016, aicek etui...</td>\n",
       "      <td>10.0</td>\n",
       "    </tr>\n",
       "    <tr>\n",
       "      <th>44</th>\n",
       "      <td>8.0</td>\n",
       "      <td>10.0</td>\n",
       "      <td>Only heating issue other wise good product bes...</td>\n",
       "      <td>amazon customer</td>\n",
       "      <td>motorola moto g5 (3 gb, lunar grey)</td>\n",
       "      <td>8.0</td>\n",
       "    </tr>\n",
       "    <tr>\n",
       "      <th>51</th>\n",
       "      <td>4.0</td>\n",
       "      <td>10.0</td>\n",
       "      <td>Good budget smartphone but battery backup is poor</td>\n",
       "      <td>amazon customer</td>\n",
       "      <td>yu yunique yu4711 smartphone (black)</td>\n",
       "      <td>4.0</td>\n",
       "    </tr>\n",
       "    <tr>\n",
       "      <th>70</th>\n",
       "      <td>10.0</td>\n",
       "      <td>10.0</td>\n",
       "      <td>Ottimo prodotto, pienamente conforme alla desc...</td>\n",
       "      <td>massimiliano</td>\n",
       "      <td>samsung c3520, telefono cellulare, argento [ge...</td>\n",
       "      <td>10.0</td>\n",
       "    </tr>\n",
       "  </tbody>\n",
       "</table>\n",
       "</div>"
      ],
      "text/plain": [
       "    score  score_max                                            extract  \\\n",
       "3    10.0       10.0                         very good product from HTC   \n",
       "33   10.0       10.0  Bonjour, La coque est parfaitement adaptÃ©e au...   \n",
       "44    8.0       10.0  Only heating issue other wise good product bes...   \n",
       "51    4.0       10.0  Good budget smartphone but battery backup is poor   \n",
       "70   10.0       10.0  Ottimo prodotto, pienamente conforme alla desc...   \n",
       "\n",
       "             author                                            product  \\\n",
       "3   amazon customer  htc desire 10 lifestyle (polar white, 32 gb) -...   \n",
       "33  client d'amazon  aicek coque samsung galaxy a3 2016, aicek etui...   \n",
       "44  amazon customer                motorola moto g5 (3 gb, lunar grey)   \n",
       "51  amazon customer               yu yunique yu4711 smartphone (black)   \n",
       "70     massimiliano  samsung c3520, telefono cellulare, argento [ge...   \n",
       "\n",
       "    raw_ratings  \n",
       "3          10.0  \n",
       "33         10.0  \n",
       "44          8.0  \n",
       "51          4.0  \n",
       "70         10.0  "
      ]
     },
     "execution_count": 74,
     "metadata": {},
     "output_type": "execute_result"
    }
   ],
   "source": [
    "selected_Data['raw_ratings'] = selected_Data['score']\n",
    "selected_Data.head()"
   ]
  },
  {
   "cell_type": "code",
   "execution_count": 75,
   "metadata": {},
   "outputs": [],
   "source": [
    "drop_list = ['score','score_max','extract']\n",
    "selected_Data.drop(drop_list,axis=1,inplace=True)"
   ]
  },
  {
   "cell_type": "code",
   "execution_count": 76,
   "metadata": {},
   "outputs": [
    {
     "data": {
      "text/html": [
       "<div>\n",
       "<style scoped>\n",
       "    .dataframe tbody tr th:only-of-type {\n",
       "        vertical-align: middle;\n",
       "    }\n",
       "\n",
       "    .dataframe tbody tr th {\n",
       "        vertical-align: top;\n",
       "    }\n",
       "\n",
       "    .dataframe thead th {\n",
       "        text-align: right;\n",
       "    }\n",
       "</style>\n",
       "<table border=\"1\" class=\"dataframe\">\n",
       "  <thead>\n",
       "    <tr style=\"text-align: right;\">\n",
       "      <th></th>\n",
       "      <th>author</th>\n",
       "      <th>product</th>\n",
       "      <th>raw_ratings</th>\n",
       "    </tr>\n",
       "  </thead>\n",
       "  <tbody>\n",
       "    <tr>\n",
       "      <th>3</th>\n",
       "      <td>amazon customer</td>\n",
       "      <td>htc desire 10 lifestyle (polar white, 32 gb) -...</td>\n",
       "      <td>10.0</td>\n",
       "    </tr>\n",
       "    <tr>\n",
       "      <th>33</th>\n",
       "      <td>client d'amazon</td>\n",
       "      <td>aicek coque samsung galaxy a3 2016, aicek etui...</td>\n",
       "      <td>10.0</td>\n",
       "    </tr>\n",
       "    <tr>\n",
       "      <th>44</th>\n",
       "      <td>amazon customer</td>\n",
       "      <td>motorola moto g5 (3 gb, lunar grey)</td>\n",
       "      <td>8.0</td>\n",
       "    </tr>\n",
       "    <tr>\n",
       "      <th>51</th>\n",
       "      <td>amazon customer</td>\n",
       "      <td>yu yunique yu4711 smartphone (black)</td>\n",
       "      <td>4.0</td>\n",
       "    </tr>\n",
       "    <tr>\n",
       "      <th>70</th>\n",
       "      <td>massimiliano</td>\n",
       "      <td>samsung c3520, telefono cellulare, argento [ge...</td>\n",
       "      <td>10.0</td>\n",
       "    </tr>\n",
       "  </tbody>\n",
       "</table>\n",
       "</div>"
      ],
      "text/plain": [
       "             author                                            product  \\\n",
       "3   amazon customer  htc desire 10 lifestyle (polar white, 32 gb) -...   \n",
       "33  client d'amazon  aicek coque samsung galaxy a3 2016, aicek etui...   \n",
       "44  amazon customer                motorola moto g5 (3 gb, lunar grey)   \n",
       "51  amazon customer               yu yunique yu4711 smartphone (black)   \n",
       "70     massimiliano  samsung c3520, telefono cellulare, argento [ge...   \n",
       "\n",
       "    raw_ratings  \n",
       "3          10.0  \n",
       "33         10.0  \n",
       "44          8.0  \n",
       "51          4.0  \n",
       "70         10.0  "
      ]
     },
     "execution_count": 76,
     "metadata": {},
     "output_type": "execute_result"
    }
   ],
   "source": [
    "selected_Data.head()"
   ]
  },
  {
   "cell_type": "code",
   "execution_count": 77,
   "metadata": {},
   "outputs": [],
   "source": [
    "df = pd.DataFrame(selected_Data)\n",
    "reader = Reader(rating_scale=(1, 10))\n",
    "# Loads Pandas dataframe\n",
    "data = Dataset.load_from_df(df[[\"author\", \"product\", \"raw_ratings\"]], reader)"
   ]
  },
  {
   "cell_type": "code",
   "execution_count": 78,
   "metadata": {},
   "outputs": [
    {
     "name": "stdout",
     "output_type": "stream",
     "text": [
      "Evaluating RMSE, MAE of algorithm SVD on 5 split(s).\n",
      "\n",
      "                  Fold 1  Fold 2  Fold 3  Fold 4  Fold 5  Mean    Std     \n",
      "RMSE (testset)    2.6979  2.7203  2.6939  2.6796  2.7056  2.6995  0.0134  \n",
      "MAE (testset)     2.1059  2.1187  2.1021  2.0875  2.0977  2.1024  0.0102  \n",
      "Fit time          7.32    7.33    7.39    7.35    7.34    7.35    0.02    \n",
      "Test time         0.25    0.25    0.25    0.25    0.25    0.25    0.00    \n"
     ]
    },
    {
     "data": {
      "text/plain": [
       "{'test_rmse': array([2.69794333, 2.72032349, 2.69393717, 2.67958722, 2.70560946]),\n",
       " 'test_mae': array([2.10590689, 2.11868655, 2.10207622, 2.08751852, 2.09769041]),\n",
       " 'fit_time': (7.31737494468689,\n",
       "  7.328676223754883,\n",
       "  7.388018846511841,\n",
       "  7.349374294281006,\n",
       "  7.342046022415161),\n",
       " 'test_time': (0.25267601013183594,\n",
       "  0.2456958293914795,\n",
       "  0.24655580520629883,\n",
       "  0.24660682678222656,\n",
       "  0.24523091316223145)}"
      ]
     },
     "execution_count": 78,
     "metadata": {},
     "output_type": "execute_result"
    }
   ],
   "source": [
    "algo_svd = SVD()\n",
    "# Run 5-fold cross-validation and then print results\n",
    "cross_validate(algo_svd, data, measures=['RMSE', 'MAE'], cv=5, verbose=True)"
   ]
  },
  {
   "cell_type": "markdown",
   "metadata": {},
   "source": [
    "### SVD with train, test split"
   ]
  },
  {
   "cell_type": "code",
   "execution_count": 79,
   "metadata": {},
   "outputs": [],
   "source": [
    "trainset, testset = train_test_split(data, test_size=.20)"
   ]
  },
  {
   "cell_type": "code",
   "execution_count": 80,
   "metadata": {},
   "outputs": [
    {
     "data": {
      "text/plain": [
       "<surprise.prediction_algorithms.matrix_factorization.SVD at 0x7f3e889722d0>"
      ]
     },
     "execution_count": 80,
     "metadata": {},
     "output_type": "execute_result"
    }
   ],
   "source": [
    "algo_svd = SVD()\n",
    "# Run 5-fold cross-validation and then print results\n",
    "algo_svd.fit(trainset)\n"
   ]
  },
  {
   "cell_type": "code",
   "execution_count": 82,
   "metadata": {},
   "outputs": [
    {
     "name": "stdout",
     "output_type": "stream",
     "text": [
      "First 5 output\n",
      "user: einer kundin item: samsung galaxy s7 edge smartphone, 13,9 cm (5,5 zoll) display, lte (4g) r_ui = 8.00   est = 9.63   {'was_impossible': False}\n",
      "user: amazon customer item: oneplus 3 (graphite, 64 gb) r_ui = 8.00   est = 9.23   {'was_impossible': False}\n",
      "user: paul       item: motorola moto z play with style mod (black, 32gb) r_ui = 8.00   est = 7.84   {'was_impossible': False}\n",
      "user: alessandro item: lenovo motorola moto g 4g 3 generazione smartphone, display 5\", fotocamera 13 mp, memoria 16 gb, android 6 lollipop, nero [italia] r_ui = 10.00   est = 9.30   {'was_impossible': False}\n",
      "user: amazon customer item: blu vivo xl smartphone - 5.5\" 4g lte - gsm unlocked - solid gold r_ui = 8.00   est = 7.55   {'was_impossible': False}\n"
     ]
    }
   ],
   "source": [
    "predictions = algo_svd.test(testset)\n",
    "#predictions\n",
    "print(\"First 5 output\")\n",
    "for k,item in zip( range(1,6),predictions):\n",
    "     print(item)"
   ]
  },
  {
   "cell_type": "code",
   "execution_count": 83,
   "metadata": {},
   "outputs": [
    {
     "name": "stdout",
     "output_type": "stream",
     "text": [
      "RMSE: 2.6938\n"
     ]
    },
    {
     "data": {
      "text/plain": [
       "2.693793808076988"
      ]
     },
     "execution_count": 83,
     "metadata": {},
     "output_type": "execute_result"
    }
   ],
   "source": [
    "accuracy.rmse(predictions)"
   ]
  },
  {
   "cell_type": "code",
   "execution_count": 98,
   "metadata": {},
   "outputs": [],
   "source": [
    "from collections import defaultdict \n",
    "def get_top_n(predictions, n=10):\n",
    "    # First map the predictions to each user.\n",
    "    top_n = defaultdict(list)\n",
    "    for author, product, true_r, est, _ in predictions:\n",
    "        top_n[author].append((product, est))\n",
    "\n",
    "    # Then sort the predictions for each author and retrieve the k highest ones.\n",
    "    for author, est in top_n.items():\n",
    "        est.sort(key=lambda x: x[1], reverse=True)\n",
    "        top_n[author] = est[:n]\n",
    "\n",
    "    return top_n"
   ]
  },
  {
   "cell_type": "code",
   "execution_count": 102,
   "metadata": {},
   "outputs": [
    {
     "name": "stdout",
     "output_type": "stream",
     "text": [
      "First 10 output\n",
      "einer kundin\n",
      "amazon customer\n",
      "paul\n",
      "alessandro\n",
      "amazon kunde\n",
      "sandra\n",
      "client d'amazon\n",
      "cliente amazon\n",
      "melissa\n"
     ]
    }
   ],
   "source": [
    "top_n = get_top_n(predictions, n=10)\n",
    "top_n\n",
    "print(\"First 10 output\")\n",
    "for k,item in zip(range(1,10),top_n):\n",
    "    print(item)"
   ]
  },
  {
   "cell_type": "code",
   "execution_count": 111,
   "metadata": {},
   "outputs": [
    {
     "name": "stdout",
     "output_type": "stream",
     "text": [
      "\n",
      " einer kundin ['apple iphone 7 4,7\" 32 gb', 'apple iphone 7 4,7\" 32 gb', 'apple iphone 7 4,7\" 32 gb', 'apple iphone 7 4,7\" 32 gb', 'apple iphone 7 4,7\" 32 gb', 'apple iphone 7 4,7\" 32 gb', 'apple iphone 7 4,7\" 32 gb', 'apple iphone 7 4,7\" 32 gb', 'apple iphone 7 4,7\" 32 gb', 'apple iphone 7 4,7\" 32 gb']\n",
      "\n",
      " amazon customer ['lg electronics nexus 5 uk smartphone - black (16gb)', 'doro phoneeasy 612 gsm sim free mobile phone - black', 'lg electronics nexus 5x 5.2-inch 16 gb sim-free smartphone - black', 'lg electronics nexus 5 uk smartphone - black (16gb)', 'lg electronics nexus 5 uk smartphone - black (16gb)', 'lg electronics nexus 5 uk smartphone - black (16gb)', 'lg electronics nexus 5x 5.2-inch 16 gb sim-free smartphone - black', 'spigen neo hybrid galaxy s6 edge case with flexible inner tpu and reinforced hard bumper frame for samsung galaxy s6 edge 2015 - gunmetal', 'doro phoneeasy 612 gsm sim free mobile phone - black', 'vodafone smart ultra 6 pay as you go android smartphone - black']\n",
      "\n",
      " paul ['motorola moto g 5-inch (2nd gen uk stock) dual sim 8gb sim-free smartphone black - discontinued by manufacturer', 'samsung star gt-s5230 unlocked phone quad-band gsm bluetooth, 3.2 mp camera, (black) - international version - no warranty', 'microsoft nokia 101 dual-sim handy (4,6 cm (1,8 zoll) tft-bildschirm, fm-radio) rot', 'samsung galaxy s7 edge 32gb', 'blackberry 9320 curve unlocked gsm quad-band smartphone with 3.2 mp camera, wi-fi, gps and 7.1 blackberry os - no warranty - black', 'htc one m9 smartphone (5 zoll (12,7 cm) touch-display, 32 gb speicher, android 5.0.2) dunkelgrau', 'lg electronics google 32gb nexus 5 uk sim-free smartphone - black', 'oneplus 3 (soft gold, 64 gb)', 'casio gzone ravine 2 verizon', 'lg electronics nexus 5 uk smartphone - black (16gb)']\n",
      "\n",
      " alessandro ['lenovo k6 note smartphone dual sim, display 5.5 pollici, lte, fotocamera 16 mp, memoria 32 gb, 3 gb ram, argento [italia]', 'asus ze551ml-2a760ww smartphone zenfone 2 deluxe, 5.5\", 4 gb ram, 64 gb, intel quad-core z3580, dual sim, illusion purple', 'nokia lumia 520 smartphone, black [italia]', 'honor 7 smartphone 4g, display full hd 5.2 pollici, processore kirin 935 octa core 2.2 ghz, 16 gb memoria interna, 3 gb ram, fotocamera 20 mp, argento', 'honor 7 smartphone 4g, display full hd 5.2 pollici, processore kirin 935 octa core 2.2 ghz, 16 gb memoria interna, 3 gb ram, fotocamera 20 mp, argento', 'nokia 1100', 'samsung g935 galaxy s7 edge smartphone da 32gb, argento [italia]', 'asus zenfone 3 max smartphone, memoria interna da 32 gb, dual-sim, grigio [italia]', 'lenovo motorola moto g lte smartphone, display 4.5\", fotocamera 5 mp, memoria 8 gb, quad-core 1.2 ghz, 1 gb ram, micro sd, android 4.4.3, bianco [italia]', 'lenovo motorola moto g lte smartphone, display 4.5\", fotocamera 5 mp, memoria 8 gb, quad-core 1.2 ghz, 1 gb ram, micro sd, android 4.4.3, bianco [italia]']\n",
      "\n",
      " amazon kunde ['htc 10 smartphone (13,2 cm (5,2 zoll) super lcd 5 display, 1440 x 2560 pixel, 12 ultrapixel, 32 gb, android) glacier silber', 'sony xperia xcompact smartphone (11,7 cm (4,6 zoll), 32 gb speicher, android 6.0) mist blue', 'sony xperia xcompact smartphone (11,7 cm (4,6 zoll), 32 gb speicher, android 6.0) mist blue', 'samsung e1270 klapphandy (4,5 cm (1,8 zoll) tft farbdisplay) rot', 'honor 8 smartphone (13,2 cm (5,2 zoll) touchscreen, 32gb interner speicher, android os) weiã\\x9f', 'honor 7 smartphone (13,2 cm (5,2 zoll) touchscreen, 16gb interner speicher, android os) grau', 'honor 7 smartphone (13,2 cm (5,2 zoll) touchscreen, 16gb interner speicher, android os) grau', 'honor 7 smartphone (13,2 cm (5,2 zoll) touchscreen, 16gb interner speicher, android os) grau', 'honor 7 smartphone (13,2 cm (5,2 zoll) touchscreen, 16gb interner speicher, android os) grau', 'honor 7 smartphone (13,2 cm (5,2 zoll) touchscreen, 16gb interner speicher, android os) grau']\n"
     ]
    }
   ],
   "source": [
    "# Print the recommended items for each user\n",
    "count = 0\n",
    "for author,est in top_n.items():\n",
    "    print(\"\\n\",author, [product for (product, _) in est])\n",
    "    count=count + 1\n",
    "    if(count==5):\n",
    "        break\n",
    "    "
   ]
  },
  {
   "cell_type": "markdown",
   "metadata": {},
   "source": [
    "### 2. Build a collaborative iltering model using kNNWithMeans from surprise.\n",
    "#### 1. User-user based model"
   ]
  },
  {
   "cell_type": "markdown",
   "metadata": {},
   "source": [
    "#### Collaborative filtering with kNNWithMeans from surprise."
   ]
  },
  {
   "cell_type": "code",
   "execution_count": 112,
   "metadata": {},
   "outputs": [],
   "source": [
    "from surprise import KNNWithMeans"
   ]
  },
  {
   "cell_type": "code",
   "execution_count": 113,
   "metadata": {},
   "outputs": [
    {
     "name": "stdout",
     "output_type": "stream",
     "text": [
      "Estimating biases using als...\n",
      "Computing the pearson_baseline similarity matrix...\n",
      "Done computing similarity matrix.\n"
     ]
    },
    {
     "data": {
      "text/plain": [
       "<surprise.prediction_algorithms.knns.KNNWithMeans at 0x7f3e88316550>"
      ]
     },
     "execution_count": 113,
     "metadata": {},
     "output_type": "execute_result"
    }
   ],
   "source": [
    "# Use user_based true/false to switch between user-based or item-based collaborative filtering\n",
    "algo_user = KNNWithMeans(k=50, sim_options={'name': 'pearson_baseline', 'user_based': True})\n",
    "algo_user.fit(trainset)"
   ]
  },
  {
   "cell_type": "code",
   "execution_count": 118,
   "metadata": {},
   "outputs": [],
   "source": [
    "# run the trained model against the testset\n",
    "test_pred_user = algo_user.test(testset)"
   ]
  },
  {
   "cell_type": "code",
   "execution_count": 124,
   "metadata": {},
   "outputs": [
    {
     "name": "stdout",
     "output_type": "stream",
     "text": [
      "First 5 output\n",
      "\n",
      " user: einer kundin item: samsung galaxy s7 edge smartphone, 13,9 cm (5,5 zoll) display, lte (4g) r_ui = 8.00   est = 9.56   {'actual_k': 50, 'was_impossible': False}\n",
      "\n",
      " user: amazon customer item: oneplus 3 (graphite, 64 gb) r_ui = 8.00   est = 8.36   {'actual_k': 50, 'was_impossible': False}\n",
      "\n",
      " user: paul       item: motorola moto z play with style mod (black, 32gb) r_ui = 8.00   est = 7.93   {'actual_k': 2, 'was_impossible': False}\n",
      "\n",
      " user: alessandro item: lenovo motorola moto g 4g 3 generazione smartphone, display 5\", fotocamera 13 mp, memoria 16 gb, android 6 lollipop, nero [italia] r_ui = 10.00   est = 9.31   {'actual_k': 31, 'was_impossible': False}\n",
      "\n",
      " user: amazon customer item: blu vivo xl smartphone - 5.5\" 4g lte - gsm unlocked - solid gold r_ui = 8.00   est = 7.44   {'actual_k': 50, 'was_impossible': False}\n"
     ]
    }
   ],
   "source": [
    "test_pred_user\n",
    "print(\"First 5 output\")\n",
    "for k,item in zip(range(1,6),test_pred_user):\n",
    "    print(\"\\n\",item)"
   ]
  },
  {
   "cell_type": "markdown",
   "metadata": {},
   "source": [
    "5. Evaluate the collaborative model. Print RMSE value."
   ]
  },
  {
   "cell_type": "code",
   "execution_count": 125,
   "metadata": {},
   "outputs": [
    {
     "name": "stdout",
     "output_type": "stream",
     "text": [
      "User-based Model : Test Set\n",
      "RMSE: 2.7696\n"
     ]
    },
    {
     "data": {
      "text/plain": [
       "2.769587412344846"
      ]
     },
     "execution_count": 125,
     "metadata": {},
     "output_type": "execute_result"
    }
   ],
   "source": [
    "# get RMSE\n",
    "print(\"User-based Model : Test Set\")\n",
    "accuracy.rmse(test_pred_user, verbose=True)"
   ]
  },
  {
   "cell_type": "markdown",
   "metadata": {},
   "source": [
    "### 6. Predict score (average rating) for test users."
   ]
  },
  {
   "cell_type": "code",
   "execution_count": 126,
   "metadata": {},
   "outputs": [],
   "source": [
    "# Query for specific predicions\n",
    "uid = str(\"uk guest\")  # raw user id\n",
    "iid = str(\"siemens mc60\")  # raw item id\n"
   ]
  },
  {
   "cell_type": "code",
   "execution_count": 127,
   "metadata": {},
   "outputs": [
    {
     "name": "stdout",
     "output_type": "stream",
     "text": [
      "user: uk guest   item: siemens mc60 r_ui = None   est = 9.00   {'actual_k': 2, 'was_impossible': False}\n",
      "user: uk guest   item: siemens mc60 r_ui = None   est = 9.00   {'actual_k': 2, 'was_impossible': False}\n"
     ]
    }
   ],
   "source": [
    "# get a prediction for specific users and items.\n",
    "pred = algo_user.predict(uid, iid, verbose=True)\n",
    "print(pred)"
   ]
  },
  {
   "cell_type": "markdown",
   "metadata": {},
   "source": [
    "### Predictions on test data, best predictions, average ratings"
   ]
  },
  {
   "cell_type": "code",
   "execution_count": 128,
   "metadata": {},
   "outputs": [],
   "source": [
    "def get_Iu(uid):\n",
    " # no of items rated by given user        \n",
    "    try:\n",
    "        return len(trainset.ur[trainset.to_inner_uid(uid)])\n",
    "    except ValueError:  # user was not part of the trainset\n",
    "        return 0\n",
    "    \n",
    "def get_Ui(iid):\n",
    "   # no of users rated the given item       \n",
    "    try:\n",
    "        return len(trainset.ir[trainset.to_inner_iid(iid)])\n",
    "    except ValueError:  # item was not part of the trainset\n",
    "        return 0\n",
    "    \n",
    "df_pred = pd.DataFrame(test_pred_user, columns=['uid', 'iid', 'rui', 'est', 'details'])\n",
    "df_pred['n_Itemsu'] = df_pred.uid.apply(get_Iu)\n",
    "df_pred['n_Usersi'] = df_pred.iid.apply(get_Ui)\n",
    "df_pred['err'] = abs(df_pred.est - df_pred.rui)\n",
    "best_predictions = df_pred.sort_values(by='err')[:10]\n",
    "worst_predictions = df_pred.sort_values(by='err')[-10:]"
   ]
  },
  {
   "cell_type": "code",
   "execution_count": 129,
   "metadata": {},
   "outputs": [
    {
     "data": {
      "text/html": [
       "<div>\n",
       "<style scoped>\n",
       "    .dataframe tbody tr th:only-of-type {\n",
       "        vertical-align: middle;\n",
       "    }\n",
       "\n",
       "    .dataframe tbody tr th {\n",
       "        vertical-align: top;\n",
       "    }\n",
       "\n",
       "    .dataframe thead th {\n",
       "        text-align: right;\n",
       "    }\n",
       "</style>\n",
       "<table border=\"1\" class=\"dataframe\">\n",
       "  <thead>\n",
       "    <tr style=\"text-align: right;\">\n",
       "      <th></th>\n",
       "      <th>uid</th>\n",
       "      <th>iid</th>\n",
       "      <th>rui</th>\n",
       "      <th>est</th>\n",
       "      <th>details</th>\n",
       "      <th>n_Itemsu</th>\n",
       "      <th>n_Usersi</th>\n",
       "      <th>err</th>\n",
       "    </tr>\n",
       "  </thead>\n",
       "  <tbody>\n",
       "    <tr>\n",
       "      <th>1082</th>\n",
       "      <td>client d'amazon</td>\n",
       "      <td>honor 6 smartphone dã©bloquã© 4g cat 6 (ecran ...</td>\n",
       "      <td>10.0</td>\n",
       "      <td>10.0</td>\n",
       "      <td>{'actual_k': 1, 'was_impossible': False}</td>\n",
       "      <td>2288</td>\n",
       "      <td>1</td>\n",
       "      <td>0.0</td>\n",
       "    </tr>\n",
       "    <tr>\n",
       "      <th>16186</th>\n",
       "      <td>zehrabalta</td>\n",
       "      <td>samsung omnia (i900) cep telefonu</td>\n",
       "      <td>9.0</td>\n",
       "      <td>9.0</td>\n",
       "      <td>{'actual_k': 44, 'was_impossible': False}</td>\n",
       "      <td>121</td>\n",
       "      <td>44</td>\n",
       "      <td>0.0</td>\n",
       "    </tr>\n",
       "    <tr>\n",
       "      <th>16158</th>\n",
       "      <td>miatamania</td>\n",
       "      <td>nokia n93 cep telefonu</td>\n",
       "      <td>9.0</td>\n",
       "      <td>9.0</td>\n",
       "      <td>{'actual_k': 25, 'was_impossible': False}</td>\n",
       "      <td>107</td>\n",
       "      <td>25</td>\n",
       "      <td>0.0</td>\n",
       "    </tr>\n",
       "    <tr>\n",
       "      <th>16142</th>\n",
       "      <td>amazon customer</td>\n",
       "      <td>apple iphone 4s 32gb black - unlocked</td>\n",
       "      <td>8.0</td>\n",
       "      <td>8.0</td>\n",
       "      <td>{'actual_k': 7, 'was_impossible': False}</td>\n",
       "      <td>35135</td>\n",
       "      <td>7</td>\n",
       "      <td>0.0</td>\n",
       "    </tr>\n",
       "    <tr>\n",
       "      <th>1142</th>\n",
       "      <td>riccardo</td>\n",
       "      <td>apple iphone 6s 64gb 4g oro</td>\n",
       "      <td>10.0</td>\n",
       "      <td>10.0</td>\n",
       "      <td>{'actual_k': 22, 'was_impossible': False}</td>\n",
       "      <td>94</td>\n",
       "      <td>32</td>\n",
       "      <td>0.0</td>\n",
       "    </tr>\n",
       "    <tr>\n",
       "      <th>8943</th>\n",
       "      <td>miatamania</td>\n",
       "      <td>samsung u800 cep telefonu</td>\n",
       "      <td>9.0</td>\n",
       "      <td>9.0</td>\n",
       "      <td>{'actual_k': 23, 'was_impossible': False}</td>\n",
       "      <td>107</td>\n",
       "      <td>23</td>\n",
       "      <td>0.0</td>\n",
       "    </tr>\n",
       "    <tr>\n",
       "      <th>20248</th>\n",
       "      <td>miatamania</td>\n",
       "      <td>nokia n82 cep telefonu</td>\n",
       "      <td>9.0</td>\n",
       "      <td>9.0</td>\n",
       "      <td>{'actual_k': 35, 'was_impossible': False}</td>\n",
       "      <td>107</td>\n",
       "      <td>35</td>\n",
       "      <td>0.0</td>\n",
       "    </tr>\n",
       "    <tr>\n",
       "      <th>20228</th>\n",
       "      <td>amazon customer</td>\n",
       "      <td>samsung t699 \"galaxy s relay 4g\" t-mobile andr...</td>\n",
       "      <td>10.0</td>\n",
       "      <td>10.0</td>\n",
       "      <td>{'actual_k': 1, 'was_impossible': False}</td>\n",
       "      <td>35135</td>\n",
       "      <td>5</td>\n",
       "      <td>0.0</td>\n",
       "    </tr>\n",
       "    <tr>\n",
       "      <th>16096</th>\n",
       "      <td>misafir</td>\n",
       "      <td>lg (514) optimus one p503</td>\n",
       "      <td>9.0</td>\n",
       "      <td>9.0</td>\n",
       "      <td>{'actual_k': 1, 'was_impossible': False}</td>\n",
       "      <td>70</td>\n",
       "      <td>1</td>\n",
       "      <td>0.0</td>\n",
       "    </tr>\n",
       "    <tr>\n",
       "      <th>16085</th>\n",
       "      <td>alberto</td>\n",
       "      <td>sony xperia z2 - smartphone libre android (pan...</td>\n",
       "      <td>10.0</td>\n",
       "      <td>10.0</td>\n",
       "      <td>{'actual_k': 1, 'was_impossible': False}</td>\n",
       "      <td>171</td>\n",
       "      <td>4</td>\n",
       "      <td>0.0</td>\n",
       "    </tr>\n",
       "  </tbody>\n",
       "</table>\n",
       "</div>"
      ],
      "text/plain": [
       "                   uid                                                iid  \\\n",
       "1082   client d'amazon  honor 6 smartphone dã©bloquã© 4g cat 6 (ecran ...   \n",
       "16186       zehrabalta                  samsung omnia (i900) cep telefonu   \n",
       "16158       miatamania                             nokia n93 cep telefonu   \n",
       "16142  amazon customer              apple iphone 4s 32gb black - unlocked   \n",
       "1142          riccardo                        apple iphone 6s 64gb 4g oro   \n",
       "8943        miatamania                          samsung u800 cep telefonu   \n",
       "20248       miatamania                             nokia n82 cep telefonu   \n",
       "20228  amazon customer  samsung t699 \"galaxy s relay 4g\" t-mobile andr...   \n",
       "16096          misafir                          lg (514) optimus one p503   \n",
       "16085          alberto  sony xperia z2 - smartphone libre android (pan...   \n",
       "\n",
       "        rui   est                                    details  n_Itemsu  \\\n",
       "1082   10.0  10.0   {'actual_k': 1, 'was_impossible': False}      2288   \n",
       "16186   9.0   9.0  {'actual_k': 44, 'was_impossible': False}       121   \n",
       "16158   9.0   9.0  {'actual_k': 25, 'was_impossible': False}       107   \n",
       "16142   8.0   8.0   {'actual_k': 7, 'was_impossible': False}     35135   \n",
       "1142   10.0  10.0  {'actual_k': 22, 'was_impossible': False}        94   \n",
       "8943    9.0   9.0  {'actual_k': 23, 'was_impossible': False}       107   \n",
       "20248   9.0   9.0  {'actual_k': 35, 'was_impossible': False}       107   \n",
       "20228  10.0  10.0   {'actual_k': 1, 'was_impossible': False}     35135   \n",
       "16096   9.0   9.0   {'actual_k': 1, 'was_impossible': False}        70   \n",
       "16085  10.0  10.0   {'actual_k': 1, 'was_impossible': False}       171   \n",
       "\n",
       "       n_Usersi  err  \n",
       "1082          1  0.0  \n",
       "16186        44  0.0  \n",
       "16158        25  0.0  \n",
       "16142         7  0.0  \n",
       "1142         32  0.0  \n",
       "8943         23  0.0  \n",
       "20248        35  0.0  \n",
       "20228         5  0.0  \n",
       "16096         1  0.0  \n",
       "16085         4  0.0  "
      ]
     },
     "execution_count": 129,
     "metadata": {},
     "output_type": "execute_result"
    }
   ],
   "source": [
    "best_predictions"
   ]
  },
  {
   "cell_type": "markdown",
   "metadata": {},
   "source": [
    "### Average rating for top 10 users."
   ]
  },
  {
   "cell_type": "code",
   "execution_count": 130,
   "metadata": {},
   "outputs": [
    {
     "data": {
      "text/html": [
       "<div>\n",
       "<style scoped>\n",
       "    .dataframe tbody tr th:only-of-type {\n",
       "        vertical-align: middle;\n",
       "    }\n",
       "\n",
       "    .dataframe tbody tr th {\n",
       "        vertical-align: top;\n",
       "    }\n",
       "\n",
       "    .dataframe thead th {\n",
       "        text-align: right;\n",
       "    }\n",
       "</style>\n",
       "<table border=\"1\" class=\"dataframe\">\n",
       "  <thead>\n",
       "    <tr style=\"text-align: right;\">\n",
       "      <th></th>\n",
       "      <th>uid</th>\n",
       "      <th>iid</th>\n",
       "      <th>est</th>\n",
       "    </tr>\n",
       "  </thead>\n",
       "  <tbody>\n",
       "    <tr>\n",
       "      <th>19601</th>\n",
       "      <td>alex</td>\n",
       "      <td>samsung ativ s (i8750) - smartphone libre wind...</td>\n",
       "      <td>10.0</td>\n",
       "    </tr>\n",
       "    <tr>\n",
       "      <th>6934</th>\n",
       "      <td>lahr2006</td>\n",
       "      <td>samsung galaxy alpha</td>\n",
       "      <td>10.0</td>\n",
       "    </tr>\n",
       "    <tr>\n",
       "      <th>14679</th>\n",
       "      <td>jonathan</td>\n",
       "      <td>honor 6 smartphone dã©bloquã© 4g cat 6 (ecran ...</td>\n",
       "      <td>10.0</td>\n",
       "    </tr>\n",
       "    <tr>\n",
       "      <th>18970</th>\n",
       "      <td>amazon customer</td>\n",
       "      <td>samsung galaxy s4 i545 16gb verizon wireless c...</td>\n",
       "      <td>10.0</td>\n",
       "    </tr>\n",
       "    <tr>\n",
       "      <th>18972</th>\n",
       "      <td>adam</td>\n",
       "      <td>samsung galaxy s3, black 16gb (verizon wireless)</td>\n",
       "      <td>10.0</td>\n",
       "    </tr>\n",
       "    <tr>\n",
       "      <th>18977</th>\n",
       "      <td>alex</td>\n",
       "      <td>lg electronics g flex 2 smartphone (13,97 cm (...</td>\n",
       "      <td>10.0</td>\n",
       "    </tr>\n",
       "    <tr>\n",
       "      <th>18981</th>\n",
       "      <td>abhishek</td>\n",
       "      <td>oneplus 3 (soft gold, 64 gb)</td>\n",
       "      <td>10.0</td>\n",
       "    </tr>\n",
       "    <tr>\n",
       "      <th>4483</th>\n",
       "      <td>diego</td>\n",
       "      <td>blackberry z30 unlocked cellphone, 16gb, black</td>\n",
       "      <td>10.0</td>\n",
       "    </tr>\n",
       "    <tr>\n",
       "      <th>14578</th>\n",
       "      <td>james</td>\n",
       "      <td>samsung galaxy note 3 n900a unlocked cellphone...</td>\n",
       "      <td>10.0</td>\n",
       "    </tr>\n",
       "    <tr>\n",
       "      <th>14510</th>\n",
       "      <td>dan</td>\n",
       "      <td>lg 440g prepaid phone with double minutes (tra...</td>\n",
       "      <td>10.0</td>\n",
       "    </tr>\n",
       "  </tbody>\n",
       "</table>\n",
       "</div>"
      ],
      "text/plain": [
       "                   uid                                                iid  \\\n",
       "19601             alex  samsung ativ s (i8750) - smartphone libre wind...   \n",
       "6934          lahr2006                               samsung galaxy alpha   \n",
       "14679         jonathan  honor 6 smartphone dã©bloquã© 4g cat 6 (ecran ...   \n",
       "18970  amazon customer  samsung galaxy s4 i545 16gb verizon wireless c...   \n",
       "18972             adam   samsung galaxy s3, black 16gb (verizon wireless)   \n",
       "18977             alex  lg electronics g flex 2 smartphone (13,97 cm (...   \n",
       "18981         abhishek                       oneplus 3 (soft gold, 64 gb)   \n",
       "4483             diego     blackberry z30 unlocked cellphone, 16gb, black   \n",
       "14578            james  samsung galaxy note 3 n900a unlocked cellphone...   \n",
       "14510              dan  lg 440g prepaid phone with double minutes (tra...   \n",
       "\n",
       "        est  \n",
       "19601  10.0  \n",
       "6934   10.0  \n",
       "14679  10.0  \n",
       "18970  10.0  \n",
       "18972  10.0  \n",
       "18977  10.0  \n",
       "18981  10.0  \n",
       "4483   10.0  \n",
       "14578  10.0  \n",
       "14510  10.0  "
      ]
     },
     "execution_count": 130,
     "metadata": {},
     "output_type": "execute_result"
    }
   ],
   "source": [
    "df_pred[['uid','iid','est']].sort_values(by='est',ascending=False).head(10)"
   ]
  },
  {
   "cell_type": "markdown",
   "metadata": {},
   "source": [
    "### Predict score (average rating) for test users."
   ]
  },
  {
   "cell_type": "code",
   "execution_count": 131,
   "metadata": {},
   "outputs": [
    {
     "name": "stdout",
     "output_type": "stream",
     "text": [
      "User:  amazon customer average rating:  7.025846832805935\n",
      "User:  max average rating:  8.499620107489747\n",
      "User:  cliente amazon average rating:  8.168781345065538\n",
      "User:  angel average rating:  8.327512832242597\n",
      "User:  mauro average rating:  8.667353633131192\n"
     ]
    }
   ],
   "source": [
    "test_users_list = ['amazon customer','max','cliente amazon','angel','mauro']\n",
    "for user in test_users_list:\n",
    "    est_rating = df_pred[df_pred['uid']==user].est.mean()\n",
    "    print(\"User: \",user,\"average rating: \",est_rating)\n",
    "    "
   ]
  },
  {
   "cell_type": "markdown",
   "metadata": {},
   "source": [
    "### Top 10 predictions for each user\n",
    "Considered output from user-user based collaborative filtering."
   ]
  },
  {
   "cell_type": "code",
   "execution_count": 132,
   "metadata": {},
   "outputs": [],
   "source": [
    "from collections import defaultdict \n",
    "def get_top_n(test_pred_user, n=10):\n",
    "    # First map the predictions to each user.\n",
    "    top_n_user = defaultdict(list)\n",
    "    for author, product, true_r, est, _ in test_pred_user:\n",
    "        top_n_user[author].append((product, est))\n",
    "\n",
    "    # Then sort the predictions for each author and retrieve the k highest ones.\n",
    "    for author, est in top_n_user.items():\n",
    "        est.sort(key=lambda x: x[1], reverse=True)\n",
    "        top_n_user[author] = est[:n]\n",
    "\n",
    "    return top_n_user"
   ]
  },
  {
   "cell_type": "code",
   "execution_count": 138,
   "metadata": {},
   "outputs": [
    {
     "name": "stdout",
     "output_type": "stream",
     "text": [
      "First 10 output\n",
      "\n",
      " User:  einer kundin [('apple iphone 7 4,7\" 32 gb', 9.88), ('apple iphone 7 4,7\" 32 gb', 9.88), ('apple iphone 7 4,7\" 32 gb', 9.88), ('apple iphone 7 4,7\" 32 gb', 9.88), ('apple iphone 7 4,7\" 32 gb', 9.88), ('apple iphone 7 4,7\" 32 gb', 9.88), ('apple iphone 7 4,7\" 32 gb', 9.88), ('apple iphone 7 4,7\" 32 gb', 9.88), ('apple iphone 7 4,7\" 32 gb', 9.88), ('apple iphone 7 4,7\" 32 gb', 9.88)]\n",
      "\n",
      " User:  amazon customer [('lg google nexus 5 d820 32gb unlocked gsm 4g lte android phone - red', 10), ('samsung galaxy a5 - smartphone libre android (pantalla 5\", cã¡mara 13 mp, 16 gb, quad-core 1.2 ghz, 2 gb ram), plateado (importado de italia)', 10), ('lg electronics g3 uk sim-free smartphone - gold (android, 5.5-inch, 16gb)', 10), ('samsung galaxy s iii, purple 16gb (sprint)', 10), ('samsung galaxy s5 sim-free smartphone, sm-g900f - black', 10), ('htc one max 16gb lte 4g unlocked gsm android phone (silver)', 10), ('samsung s5230 tocco lite sim free mobile phone - black', 10), ('samsung i8160 galaxy ace 2 sim free mobile phone', 10), ('samsung galaxy s5 mini smartphone dã©bloquã© 4.5 pouces 16 go android noir (import allemagne)', 10), ('samsung galaxy note n7000 16gb unlocked android smartphone - dark blue', 10)]\n",
      "\n",
      " User:  paul [(\"casio g'zone c781 ravine 2 verizon cell phone / rugged flip phone / black\", 10), ('nokia lumia 640 xl windows 8.1 smartphone with 13mp camera, 4g lte 8gb, 5.7-inch, black (at&t)', 10), ('lg electronics nexus 5 uk smartphone - black (16gb)', 10), ('tech armor galaxy note 4 screen protector, tech armor high definition hd-clear samsung galaxy note 4 film screen protector [3-pack]', 10), ('sony xperia z3 compact uk sim-free smartphone - black', 10), ('microsoft nokia 101 dual-sim handy (4,6 cm (1,8 zoll) tft-bildschirm, fm-radio) rot', 10), ('asus zenfone 2 laser unlocked smartphone, 3gb ram, 32gb storage', 10), ('motorola moto g 5-inch (2nd gen uk stock) dual sim 8gb sim-free smartphone black - discontinued by manufacturer', 9.99080294209645), ('samsung galaxy s7 edge 32gb', 9.984568384836331), ('blackberry 9320 curve unlocked gsm quad-band smartphone with 3.2 mp camera, wi-fi, gps and 7.1 blackberry os - no warranty - black', 9.884331970208816)]\n",
      "\n",
      " User:  alessandro [('nokia 1100', 10), ('samsung a520 smartphone, memoria interna da 32 gb, nero [italia]', 10), ('lg nexus 4 smartphone, nero [italia]', 10), ('apple iphone 6s 64gb 4g oro', 10), ('cubot note s 3g smartphone - 5.5\" pollici ips hd screen android 5.1 mt6580 quad core 1.3ghz 2gb ram+16gb rom dual sim hotknot wifi cellulare (nero)', 10), ('nokia lumia 520 smartphone, black [italia]', 10), ('samsung sm-n910f galaxy note 4 smartphone, 32 gb, bianco [italia]', 10), ('nokia cellulare nokia 105 dual sim cyan blu', 10), ('lg nexus 4 smartphone, nero [italia]', 10), ('asus zenfone 3 max smartphone, memoria interna da 32 gb, dual-sim, grigio [italia]', 9.989082209373768)]\n",
      "\n",
      " User:  amazon kunde [('sony xperia xcompact smartphone (11,7 cm (4,6 zoll), 32 gb speicher, android 6.0) mist blue', 10), ('sony xperia xcompact smartphone (11,7 cm (4,6 zoll), 32 gb speicher, android 6.0) mist blue', 10), ('samsung wave 533 s5330 smartphone (8,1 cm (3,2 zoll) display, touchscreen, 3,2 megapixel kamera) schwarz', 10), ('samsung e1200 handy (3,9 cm (1,52 zoll) display, dual-band, worterkennung) black', 9.998872994697933), ('samsung e1200 handy (3,9 cm (1,52 zoll) display, dual-band, worterkennung) black', 9.998872994697933), ('htc 10 smartphone (13,2 cm (5,2 zoll) super lcd 5 display, 1440 x 2560 pixel, 12 ultrapixel, 32 gb, android) glacier silber', 9.997857385870155), ('lg electronics d605 optimus l9ii smartphone (11,9 cm (4,7 zoll) touchscreen display, dual-core 1,4ghz prozessor, 8 megapixel kamera, 8gb interner speicher, 1gb ram, android 4.1) schwarz', 9.996375521595716), ('lenovo moto g4 plus smartphone (14 cm (5,5 zoll), 16gb, android) schwarz', 9.994637389382858), ('sony xperia m2 smartphone (12,2 cm (4,8 zoll) tft-display, 1,2 ghz quad-core-prozessor, 1gb ram, 8 megapixel kamera, nfc-fã¤hig, android 4.3) violett', 9.98262298145752), ('sony xperia m2 smartphone (12,2 cm (4,8 zoll) tft-display, 1,2 ghz quad-core-prozessor, 1gb ram, 8 megapixel kamera, nfc-fã¤hig, android 4.3) violett', 9.98262298145752)]\n",
      "\n",
      " User:  sandra [('zte t-mobile concord v768 cell phone - blue', 10), ('vodafone smart first 6 pay as you go handset smartphone - white', 10), ('cubot p11 - smartphone libre android (pantalla 5\", cã¡mara 13 mp, 8 gb, quad-core 1.3 ghz, 1 gb ram), negro', 9.999278254553136), ('samsung s7582 galaxy s duos 2 smartphone (10,16 cm (4 zoll) tft-touchscreen, 1,2 ghz dual-core-prozessor, 5 megapixel kamera, android 4.2) schwarz', 9.924630924630925), ('nokia lumia 521 rm-917 t-mobile windows 8 4g smartphone - white', 9.889957264957266), ('samsung galaxy j5 sm-j500h/ds gsm factory unlocked smartphone, international version (gold)', 9.866568788133385), ('honor 6x smartphone portable dã©bloquã© 4g (ecran: 5,5 pouces - 32 go - emplacement de carte 2-en-1 - android 6.0 marshmallow) gris', 9.394700330159047), ('samsung galaxy s7 goud, roze / 32 gb', 9.297716659470543), ('samsung galaxy s7 goud, roze / 32 gb', 9.297716659470543), ('microsoft nokia c2-02 smartphone (6,6 cm (2,6 zoll) touchscreen, 2 megapixel kamera, bluetooth) golden weiã\\x9f', 9.237506284565109)]\n",
      "\n",
      " User:  client d'amazon [('honor 6 smartphone dã©bloquã© 4g cat 6 (ecran : 5 pouces full hd - 16 go - simple sim - android 4.4 kitkat) blanc', 10), ('linke power bank , linke smartcharger portable charger external battery power bank for mobile device, cell phone, iphone, ipad, samsung galaxy, blackberry, ipod, mp3, psp, pda, gps and most usb devices (20000 mah)', 10), ('samsung note 4 standard li-ion battery 3220mah for galaxy note 4 - non-retail packaging', 10), ('huawei ascend mate 7 smartphone dã©bloquã© 4g noir', 9.981919287989578), ('wiko rainbow smartphone bluetooth android 4 go turquoise', 9.981754713339724), ('wiko rainbow smartphone bluetooth android 4 go turquoise', 9.981754713339724), ('nokia 2720 fold tã©lã©phone portable ecran 1,8\" bluetooth appareil photo 1,3 mpix mp3 radio fm noir', 9.980126935065178), ('wiko rainbow smartphone bluetooth android 4 go fuschia', 9.958592894555041), ('wiko rainbow smartphone bluetooth android 4 go fuschia', 9.958592894555041), ('wiko rainbow smartphone bluetooth android 4 go fuschia', 9.958592894555041)]\n",
      "\n",
      " User:  cliente amazon [('samsung galaxy sii plus, smartphone, nfc, blu [italia]', 10), ('honor 8 smartphone dã©bloquã© 4g (ecran: 5,2 pouces - 32 go - double nano-sim - android 6.0) blanc nacrã©', 10), ('sony xperia m2 - smartphone libre android (pantalla 4.8\", cã¡mara 8 mp, 8 gb, quad-core 1.2 ghz, 1024 mb ram), pãºrpura (importado)', 10), ('motorola moto g 4g - smartphone libre (pantalla 4.5\", cã¡mara 5 mp, 8 gb, quad-core 1.2 ghz, 1 gb ram, android 4.4.3) blanco', 10), ('lg nexus 5 - smartphone libre android (pantalla 4.95\", cã¡mara 8 mp, 16 gb, quad-core 2.3 ghz, 2 gb ram), negro', 10), ('lg g2 - smartphone libre android (pantalla 5.2\", cã¡mara 13 mp, 16 gb, quad-core 2.3 ghz), negro', 10), ('sony xperia z3 smartphone, 16 gb, bianco [italia]', 10), ('asus zenfone 2 smartphone, 64 gb, blu fusion [italia]', 9.999712734573725), ('huawei nexus 6p smartphone, display 5.7 pollici, memoria interna 32 gb, 3 gb da ram, fotocamera 12.3 mp, android 6.0, grigio', 9.999452424033283), ('huawei nexus 6p smartphone, display 5.7 pollici, memoria interna 32 gb, 3 gb da ram, fotocamera 12.3 mp, android 6.0, grigio', 9.999452424033283)]\n",
      "\n",
      " User:  melissa [('samsung sgh-e250', 10), ('lg env', 9.842501891532804), ('samsung galaxy s7 goud, roze / 32 gb', 9.024748688649716), ('lg nexus 5x unlocked smartphone - white 32gb (u.s. warranty)', 8.60726083884097), ('apple iphone 5s 16 go gris sidã©ral', 8.333333333333334), ('verizon lg ally vs740 3g wifi camera android smartphone no contract excellent', 8.333333333333334), ('smartphone lg optimus l3 e400', 8.140401876581002), ('sim free sony e5 mobile phone', 8.027210884353742), ('sony xperia m4 aqua 16gb gsm/lte unlocked cell phone - black (u.s. warranty)', 7.395842177967693), ('blu studio 6.0 hd - factory unlocked (\"black\")', 6.918515953012669)]\n",
      "\n",
      " User:  unknown [('apple iphone 5s (silver, 16 gb)', 10), ('apple iphone 5s 16gb space gray', 10), ('sony xperia z1 compact (ñ\\x80ð¾ð·ð¾ð²ñ\\x8bð¹)', 9.724019632164609), ('samsung samsung galaxy a5 2016 - wit', 9.666666666666666), ('samsung samsung galaxy a5 2016 - wit', 9.666666666666666), ('samsung samsung galaxy a5 2016 - wit', 9.666666666666666), ('samsung samsung galaxy a5 2016 - wit', 9.666666666666666), ('samsung samsung galaxy a5 2016 - wit', 9.666666666666666), ('samsung samsung galaxy a5 2016 - wit', 9.666666666666666), ('samsung samsung galaxy a5 2016 - wit', 9.666666666666666)]\n"
     ]
    }
   ],
   "source": [
    "top_n_user = get_top_n(test_pred_user, n=10)\n",
    "print(\"First 10 output\")\n",
    "for k,user,item in zip(range(1,11),top_n_user,top_n_user.values()):\n",
    "        print(\"\\n\",\"User: \",user,item)"
   ]
  },
  {
   "cell_type": "code",
   "execution_count": null,
   "metadata": {},
   "outputs": [],
   "source": [
    "test_users_list = ['amazon customer','max','cliente amazon','angel','mauro']\n",
    "for item in test_users_list:\n",
    "    if item in top_n_user:\n",
    "        value = top_n_user.get(item)\n",
    "        print(\"Top 10 Recommendations for Author:\",item,\"\\n\")\n",
    "        count = 1\n",
    "        for values in value:\n",
    "            print(\"Recommended Product \",count,\": \", values[0],\" \\n Rating : \",values[1],\"\\n\")\n",
    "            count= count+1"
   ]
  },
  {
   "cell_type": "code",
   "execution_count": null,
   "metadata": {},
   "outputs": [],
   "source": []
  },
  {
   "cell_type": "markdown",
   "metadata": {},
   "source": [
    "### Top 10 predictions for each user\n",
    "Considered output from the SVD predictions."
   ]
  },
  {
   "cell_type": "code",
   "execution_count": 139,
   "metadata": {},
   "outputs": [],
   "source": [
    "from collections import defaultdict \n",
    "def get_top_n(test_pred, n=10):\n",
    "    # First map the predictions to each user.\n",
    "    top_n = defaultdict(list)\n",
    "    for author, product, true_r, est, _ in test_pred:\n",
    "        top_n[author].append((product, est))\n",
    "\n",
    "    # Then sort the predictions for each author and retrieve the k highest ones.\n",
    "    for author, est in top_n.items():\n",
    "        est.sort(key=lambda x: x[1], reverse=True)\n",
    "        top_n[author] = est[:n]\n",
    "\n",
    "    return top_n"
   ]
  },
  {
   "cell_type": "code",
   "execution_count": 143,
   "metadata": {},
   "outputs": [
    {
     "name": "stdout",
     "output_type": "stream",
     "text": [
      "First 10 output\n",
      "\n",
      " User:  einer kundin [('apple iphone 7 4,7\" 32 gb', 9.88), ('apple iphone 7 4,7\" 32 gb', 9.88), ('apple iphone 7 4,7\" 32 gb', 9.88), ('apple iphone 7 4,7\" 32 gb', 9.88), ('apple iphone 7 4,7\" 32 gb', 9.88), ('apple iphone 7 4,7\" 32 gb', 9.88), ('apple iphone 7 4,7\" 32 gb', 9.88), ('apple iphone 7 4,7\" 32 gb', 9.88), ('apple iphone 7 4,7\" 32 gb', 9.88), ('apple iphone 7 4,7\" 32 gb', 9.88)]\n",
      "\n",
      " User:  amazon customer [('lg google nexus 5 d820 32gb unlocked gsm 4g lte android phone - red', 10), ('samsung galaxy a5 - smartphone libre android (pantalla 5\", cã¡mara 13 mp, 16 gb, quad-core 1.2 ghz, 2 gb ram), plateado (importado de italia)', 10), ('lg electronics g3 uk sim-free smartphone - gold (android, 5.5-inch, 16gb)', 10), ('samsung galaxy s iii, purple 16gb (sprint)', 10), ('samsung galaxy s5 sim-free smartphone, sm-g900f - black', 10), ('htc one max 16gb lte 4g unlocked gsm android phone (silver)', 10), ('samsung s5230 tocco lite sim free mobile phone - black', 10), ('samsung i8160 galaxy ace 2 sim free mobile phone', 10), ('samsung galaxy s5 mini smartphone dã©bloquã© 4.5 pouces 16 go android noir (import allemagne)', 10), ('samsung galaxy note n7000 16gb unlocked android smartphone - dark blue', 10)]\n",
      "\n",
      " User:  paul [(\"casio g'zone c781 ravine 2 verizon cell phone / rugged flip phone / black\", 10), ('nokia lumia 640 xl windows 8.1 smartphone with 13mp camera, 4g lte 8gb, 5.7-inch, black (at&t)', 10), ('lg electronics nexus 5 uk smartphone - black (16gb)', 10), ('tech armor galaxy note 4 screen protector, tech armor high definition hd-clear samsung galaxy note 4 film screen protector [3-pack]', 10), ('sony xperia z3 compact uk sim-free smartphone - black', 10), ('microsoft nokia 101 dual-sim handy (4,6 cm (1,8 zoll) tft-bildschirm, fm-radio) rot', 10), ('asus zenfone 2 laser unlocked smartphone, 3gb ram, 32gb storage', 10), ('motorola moto g 5-inch (2nd gen uk stock) dual sim 8gb sim-free smartphone black - discontinued by manufacturer', 9.99080294209645), ('samsung galaxy s7 edge 32gb', 9.984568384836331), ('blackberry 9320 curve unlocked gsm quad-band smartphone with 3.2 mp camera, wi-fi, gps and 7.1 blackberry os - no warranty - black', 9.884331970208816)]\n",
      "\n",
      " User:  alessandro [('nokia 1100', 10), ('samsung a520 smartphone, memoria interna da 32 gb, nero [italia]', 10), ('lg nexus 4 smartphone, nero [italia]', 10), ('apple iphone 6s 64gb 4g oro', 10), ('cubot note s 3g smartphone - 5.5\" pollici ips hd screen android 5.1 mt6580 quad core 1.3ghz 2gb ram+16gb rom dual sim hotknot wifi cellulare (nero)', 10), ('nokia lumia 520 smartphone, black [italia]', 10), ('samsung sm-n910f galaxy note 4 smartphone, 32 gb, bianco [italia]', 10), ('nokia cellulare nokia 105 dual sim cyan blu', 10), ('lg nexus 4 smartphone, nero [italia]', 10), ('asus zenfone 3 max smartphone, memoria interna da 32 gb, dual-sim, grigio [italia]', 9.989082209373768)]\n",
      "\n",
      " User:  amazon kunde [('sony xperia xcompact smartphone (11,7 cm (4,6 zoll), 32 gb speicher, android 6.0) mist blue', 10), ('sony xperia xcompact smartphone (11,7 cm (4,6 zoll), 32 gb speicher, android 6.0) mist blue', 10), ('samsung wave 533 s5330 smartphone (8,1 cm (3,2 zoll) display, touchscreen, 3,2 megapixel kamera) schwarz', 10), ('samsung e1200 handy (3,9 cm (1,52 zoll) display, dual-band, worterkennung) black', 9.998872994697933), ('samsung e1200 handy (3,9 cm (1,52 zoll) display, dual-band, worterkennung) black', 9.998872994697933), ('htc 10 smartphone (13,2 cm (5,2 zoll) super lcd 5 display, 1440 x 2560 pixel, 12 ultrapixel, 32 gb, android) glacier silber', 9.997857385870155), ('lg electronics d605 optimus l9ii smartphone (11,9 cm (4,7 zoll) touchscreen display, dual-core 1,4ghz prozessor, 8 megapixel kamera, 8gb interner speicher, 1gb ram, android 4.1) schwarz', 9.996375521595716), ('lenovo moto g4 plus smartphone (14 cm (5,5 zoll), 16gb, android) schwarz', 9.994637389382858), ('sony xperia m2 smartphone (12,2 cm (4,8 zoll) tft-display, 1,2 ghz quad-core-prozessor, 1gb ram, 8 megapixel kamera, nfc-fã¤hig, android 4.3) violett', 9.98262298145752), ('sony xperia m2 smartphone (12,2 cm (4,8 zoll) tft-display, 1,2 ghz quad-core-prozessor, 1gb ram, 8 megapixel kamera, nfc-fã¤hig, android 4.3) violett', 9.98262298145752)]\n",
      "\n",
      " User:  sandra [('zte t-mobile concord v768 cell phone - blue', 10), ('vodafone smart first 6 pay as you go handset smartphone - white', 10), ('cubot p11 - smartphone libre android (pantalla 5\", cã¡mara 13 mp, 8 gb, quad-core 1.3 ghz, 1 gb ram), negro', 9.999278254553136), ('samsung s7582 galaxy s duos 2 smartphone (10,16 cm (4 zoll) tft-touchscreen, 1,2 ghz dual-core-prozessor, 5 megapixel kamera, android 4.2) schwarz', 9.924630924630925), ('nokia lumia 521 rm-917 t-mobile windows 8 4g smartphone - white', 9.889957264957266), ('samsung galaxy j5 sm-j500h/ds gsm factory unlocked smartphone, international version (gold)', 9.866568788133385), ('honor 6x smartphone portable dã©bloquã© 4g (ecran: 5,5 pouces - 32 go - emplacement de carte 2-en-1 - android 6.0 marshmallow) gris', 9.394700330159047), ('samsung galaxy s7 goud, roze / 32 gb', 9.297716659470543), ('samsung galaxy s7 goud, roze / 32 gb', 9.297716659470543), ('microsoft nokia c2-02 smartphone (6,6 cm (2,6 zoll) touchscreen, 2 megapixel kamera, bluetooth) golden weiã\\x9f', 9.237506284565109)]\n",
      "\n",
      " User:  client d'amazon [('honor 6 smartphone dã©bloquã© 4g cat 6 (ecran : 5 pouces full hd - 16 go - simple sim - android 4.4 kitkat) blanc', 10), ('linke power bank , linke smartcharger portable charger external battery power bank for mobile device, cell phone, iphone, ipad, samsung galaxy, blackberry, ipod, mp3, psp, pda, gps and most usb devices (20000 mah)', 10), ('samsung note 4 standard li-ion battery 3220mah for galaxy note 4 - non-retail packaging', 10), ('huawei ascend mate 7 smartphone dã©bloquã© 4g noir', 9.981919287989578), ('wiko rainbow smartphone bluetooth android 4 go turquoise', 9.981754713339724), ('wiko rainbow smartphone bluetooth android 4 go turquoise', 9.981754713339724), ('nokia 2720 fold tã©lã©phone portable ecran 1,8\" bluetooth appareil photo 1,3 mpix mp3 radio fm noir', 9.980126935065178), ('wiko rainbow smartphone bluetooth android 4 go fuschia', 9.958592894555041), ('wiko rainbow smartphone bluetooth android 4 go fuschia', 9.958592894555041), ('wiko rainbow smartphone bluetooth android 4 go fuschia', 9.958592894555041)]\n",
      "\n",
      " User:  cliente amazon [('samsung galaxy sii plus, smartphone, nfc, blu [italia]', 10), ('honor 8 smartphone dã©bloquã© 4g (ecran: 5,2 pouces - 32 go - double nano-sim - android 6.0) blanc nacrã©', 10), ('sony xperia m2 - smartphone libre android (pantalla 4.8\", cã¡mara 8 mp, 8 gb, quad-core 1.2 ghz, 1024 mb ram), pãºrpura (importado)', 10), ('motorola moto g 4g - smartphone libre (pantalla 4.5\", cã¡mara 5 mp, 8 gb, quad-core 1.2 ghz, 1 gb ram, android 4.4.3) blanco', 10), ('lg nexus 5 - smartphone libre android (pantalla 4.95\", cã¡mara 8 mp, 16 gb, quad-core 2.3 ghz, 2 gb ram), negro', 10), ('lg g2 - smartphone libre android (pantalla 5.2\", cã¡mara 13 mp, 16 gb, quad-core 2.3 ghz), negro', 10), ('sony xperia z3 smartphone, 16 gb, bianco [italia]', 10), ('asus zenfone 2 smartphone, 64 gb, blu fusion [italia]', 9.999712734573725), ('huawei nexus 6p smartphone, display 5.7 pollici, memoria interna 32 gb, 3 gb da ram, fotocamera 12.3 mp, android 6.0, grigio', 9.999452424033283), ('huawei nexus 6p smartphone, display 5.7 pollici, memoria interna 32 gb, 3 gb da ram, fotocamera 12.3 mp, android 6.0, grigio', 9.999452424033283)]\n",
      "\n",
      " User:  melissa [('samsung sgh-e250', 10), ('lg env', 9.842501891532804), ('samsung galaxy s7 goud, roze / 32 gb', 9.024748688649716), ('lg nexus 5x unlocked smartphone - white 32gb (u.s. warranty)', 8.60726083884097), ('apple iphone 5s 16 go gris sidã©ral', 8.333333333333334), ('verizon lg ally vs740 3g wifi camera android smartphone no contract excellent', 8.333333333333334), ('smartphone lg optimus l3 e400', 8.140401876581002), ('sim free sony e5 mobile phone', 8.027210884353742), ('sony xperia m4 aqua 16gb gsm/lte unlocked cell phone - black (u.s. warranty)', 7.395842177967693), ('blu studio 6.0 hd - factory unlocked (\"black\")', 6.918515953012669)]\n",
      "\n",
      " User:  unknown [('apple iphone 5s (silver, 16 gb)', 10), ('apple iphone 5s 16gb space gray', 10), ('sony xperia z1 compact (ñ\\x80ð¾ð·ð¾ð²ñ\\x8bð¹)', 9.724019632164609), ('samsung samsung galaxy a5 2016 - wit', 9.666666666666666), ('samsung samsung galaxy a5 2016 - wit', 9.666666666666666), ('samsung samsung galaxy a5 2016 - wit', 9.666666666666666), ('samsung samsung galaxy a5 2016 - wit', 9.666666666666666), ('samsung samsung galaxy a5 2016 - wit', 9.666666666666666), ('samsung samsung galaxy a5 2016 - wit', 9.666666666666666), ('samsung samsung galaxy a5 2016 - wit', 9.666666666666666)]\n"
     ]
    }
   ],
   "source": [
    "top_n = get_top_n(predictions, n=10)\n",
    "top_n\n",
    "print(\"First 10 output\")\n",
    "for k,user,item in zip(range(1,11),top_n_user,top_n_user.values()):\n",
    "     print(\"\\n\",\"User: \",user,item)"
   ]
  },
  {
   "cell_type": "markdown",
   "metadata": {},
   "source": [
    "### Item-item collaboarative filtering based recommendation system."
   ]
  },
  {
   "cell_type": "code",
   "execution_count": 144,
   "metadata": {},
   "outputs": [
    {
     "name": "stdout",
     "output_type": "stream",
     "text": [
      "Estimating biases using als...\n",
      "Computing the pearson_baseline similarity matrix...\n",
      "Done computing similarity matrix.\n"
     ]
    },
    {
     "data": {
      "text/plain": [
       "<surprise.prediction_algorithms.knns.KNNWithMeans at 0x7f3e882d3290>"
      ]
     },
     "execution_count": 144,
     "metadata": {},
     "output_type": "execute_result"
    }
   ],
   "source": [
    "# Use user_based true/false to switch between user-based or item-based collaborative filtering\n",
    "algo_item = KNNWithMeans(k=50, sim_options={'name': 'pearson_baseline', 'user_based': False})\n",
    "algo_item.fit(trainset)"
   ]
  },
  {
   "cell_type": "code",
   "execution_count": 145,
   "metadata": {},
   "outputs": [],
   "source": [
    "# run the trained model against the testset\n",
    "test_pred_item = algo_item.test(testset)"
   ]
  },
  {
   "cell_type": "code",
   "execution_count": 146,
   "metadata": {},
   "outputs": [
    {
     "name": "stdout",
     "output_type": "stream",
     "text": [
      "Item-based Model : Test Set\n",
      "RMSE: 2.6993\n"
     ]
    },
    {
     "data": {
      "text/plain": [
       "2.699290869013886"
      ]
     },
     "execution_count": 146,
     "metadata": {},
     "output_type": "execute_result"
    }
   ],
   "source": [
    "# get RMSE\n",
    "print(\"Item-based Model : Test Set\")\n",
    "accuracy.rmse(test_pred_item, verbose=True)"
   ]
  },
  {
   "cell_type": "code",
   "execution_count": 147,
   "metadata": {},
   "outputs": [
    {
     "name": "stdout",
     "output_type": "stream",
     "text": [
      "SVD based Model : Test Set\n",
      "RMSE: 2.6938\n",
      "User-based Model : Test Set\n",
      "RMSE: 2.7696\n",
      "Item-based Model : Test Set\n",
      "RMSE: 2.6993\n"
     ]
    },
    {
     "data": {
      "text/plain": [
       "2.699290869013886"
      ]
     },
     "execution_count": 147,
     "metadata": {},
     "output_type": "execute_result"
    }
   ],
   "source": [
    "print(\"SVD based Model : Test Set\")\n",
    "accuracy.rmse(predictions,verbose=True)\n",
    "print(\"User-based Model : Test Set\")\n",
    "accuracy.rmse(test_pred_user, verbose=True)\n",
    "print(\"Item-based Model : Test Set\")\n",
    "accuracy.rmse(test_pred_item, verbose=True)"
   ]
  },
  {
   "cell_type": "markdown",
   "metadata": {},
   "source": [
    "#### GridSearchCV is applied with similarity measures 'msd' and 'cosine' on use based and item based collaborative fltering.\n",
    "Cross validation with k = 3 is used.\n",
    "Best rmse score and best parameters are shown.\n",
    "Its taking long time to execute so skipped it."
   ]
  },
  {
   "cell_type": "code",
   "execution_count": 148,
   "metadata": {},
   "outputs": [],
   "source": [
    "#from surprise.model_selection import GridSearchCV\n",
    "#sim_options = {\n",
    "#    \"name\": [\"msd\", \"cosine\"],\n",
    "#    \"min_support\": [3, 4, 5],\n",
    "#    \"user_based\": [False, True],\n",
    "#}\n",
    "\n",
    "#param_grid = {\"sim_options\": sim_options}\n",
    "\n",
    "#gs = GridSearchCV(KNNWithMeans, param_grid, measures=[\"rmse\", \"mae\"], cv=3)\n",
    "#gs.fit(data)\n",
    "\n",
    "#print(gs.best_score[\"rmse\"])\n",
    "#print(gs.best_params[\"rmse\"])"
   ]
  },
  {
   "cell_type": "code",
   "execution_count": null,
   "metadata": {},
   "outputs": [],
   "source": []
  },
  {
   "cell_type": "markdown",
   "metadata": {},
   "source": [
    "### 7. Report your findings and inferences."
   ]
  },
  {
   "cell_type": "markdown",
   "metadata": {},
   "source": [
    "#### Used SVD, user-user based and item-item based collaborative filtering.\n",
    "All the methods gives the rmse is around 2.7 for all methods used.\n"
   ]
  },
  {
   "cell_type": "markdown",
   "metadata": {},
   "source": [
    "### 8. Try and recommend top 5 products for test users."
   ]
  },
  {
   "cell_type": "code",
   "execution_count": 149,
   "metadata": {},
   "outputs": [
    {
     "name": "stdout",
     "output_type": "stream",
     "text": [
      "Top 5 Recommendations for Author: amazon customer \n",
      "\n",
      "Recommended Product  1 :  lg electronics nexus 5 uk smartphone - black (16gb)  \n",
      " Rating :  10 \n",
      "\n",
      "Recommended Product  2 :  doro phoneeasy 612 gsm sim free mobile phone - black  \n",
      " Rating :  10 \n",
      "\n",
      "Recommended Product  3 :  lg electronics nexus 5x 5.2-inch 16 gb sim-free smartphone - black  \n",
      " Rating :  10 \n",
      "\n",
      "Recommended Product  4 :  lg electronics nexus 5 uk smartphone - black (16gb)  \n",
      " Rating :  10 \n",
      "\n",
      "Recommended Product  5 :  lg electronics nexus 5 uk smartphone - black (16gb)  \n",
      " Rating :  10 \n",
      "\n",
      "Recommended Product  6 :  lg electronics nexus 5 uk smartphone - black (16gb)  \n",
      " Rating :  10 \n",
      "\n",
      "Recommended Product  7 :  lg electronics nexus 5x 5.2-inch 16 gb sim-free smartphone - black  \n",
      " Rating :  10 \n",
      "\n",
      "Recommended Product  8 :  spigen neo hybrid galaxy s6 edge case with flexible inner tpu and reinforced hard bumper frame for samsung galaxy s6 edge 2015 - gunmetal  \n",
      " Rating :  10 \n",
      "\n",
      "Recommended Product  9 :  doro phoneeasy 612 gsm sim free mobile phone - black  \n",
      " Rating :  10 \n",
      "\n",
      "Recommended Product  10 :  vodafone smart ultra 6 pay as you go android smartphone - black  \n",
      " Rating :  9.991852014237995 \n",
      "\n",
      "Top 5 Recommendations for Author: max \n",
      "\n",
      "Recommended Product  1 :  sony ericsson xperia x8 smartphone ( 3.2 mp, android os, agps, wifi, 3.5mm klinkenstecker) weiã/blau  \n",
      " Rating :  9.895790396459468 \n",
      "\n",
      "Recommended Product  2 :  huawei p9 lite smartphone, lte, display 5.2'' fhd, processore octa-core kirin 650, 16 gb memoria interna, 3gb ram, fotocamera 13 mp, single-sim, android 6.0 marshmallow, bianco [italia]  \n",
      " Rating :  9.88169787717786 \n",
      "\n",
      "Recommended Product  3 :  huawei p9 lite smartphone, 5.2\" full hd, 3 gb ram, 16 gb, nero, garanzia europa  \n",
      " Rating :  9.751409838329177 \n",
      "\n",
      "Recommended Product  4 :  samsung a300 galaxy a3 smartphone, 16 gb, bianco [italia]  \n",
      " Rating :  9.399273192014586 \n",
      "\n",
      "Recommended Product  5 :  samsung galaxy mini 2 smartphone, display 3.27 pollici, bianco [italia]  \n",
      " Rating :  9.115676773041148 \n",
      "\n",
      "Recommended Product  6 :  sim free samsung a3 2016 mobile phone - white  \n",
      " Rating :  8.834079874874796 \n",
      "\n",
      "Recommended Product  7 :  lg d855 g3 smartphone, 32 gb, nero metallico [italia]  \n",
      " Rating :  8.706858559491518 \n",
      "\n",
      "Recommended Product  8 :  huawei - p8 lite - smartphone dã©bloquã© - 4g (ecran : 5 pouces - 16 go - double sim - android 5.0 lollipop) - or  \n",
      " Rating :  8.699599281128334 \n",
      "\n",
      "Recommended Product  9 :  blackberry z30 smartphone ( 12,7 cm (5 zoll) amoled touchscreen, 8 megapixel kamera, 2gb ram, 16gb speicher) schwarz  \n",
      " Rating :  8.669085012585056 \n",
      "\n",
      "Recommended Product  10 :  microsoft nokia 101 dual-sim handy (4,6 cm (1,8 zoll) tft-bildschirm, fm-radio) rot  \n",
      " Rating :  8.625130999757648 \n",
      "\n",
      "Top 5 Recommendations for Author: cliente amazon \n",
      "\n",
      "Recommended Product  1 :  honor 7 - smartphone libre de 5.2\" (4g, wifi, bluetooth, dual nano sim, hisilicon kirin 935, 64 bit super 8+1 core, 2.2 ghz, 3 gb de ram, 16 gb rom, cã¡mara de 20 mp/8 mp, android 5.0 con emui 3.1) color plateado  \n",
      " Rating :  10 \n",
      "\n",
      "Recommended Product  2 :  honor 7 - smartphone libre de 5.2\" (4g, wifi, bluetooth, dual nano sim, hisilicon kirin 935, 64 bit super 8+1 core, 2.2 ghz, 3 gb de ram, 16 gb rom, cã¡mara de 20 mp/8 mp, android 5.0 con emui 3.1) color plateado  \n",
      " Rating :  10 \n",
      "\n",
      "Recommended Product  3 :  asus zenfone 2 smartphone, 64 gb, blu fusion [italia]  \n",
      " Rating :  9.930986352726578 \n",
      "\n",
      "Recommended Product  4 :  huawei mate 8 smartphone dual sim, display da 6\" full hd, fotocamera da 16 megapixel, argento  \n",
      " Rating :  9.894910351476135 \n",
      "\n",
      "Recommended Product  5 :  huawei nexus 6p smartphone, display 5.7 pollici, memoria interna 32 gb, 3 gb da ram, fotocamera 12.3 mp, android 6.0, grigio  \n",
      " Rating :  9.761398713845907 \n",
      "\n",
      "Recommended Product  6 :  huawei nexus 6p smartphone, display 5.7 pollici, memoria interna 32 gb, 3 gb da ram, fotocamera 12.3 mp, android 6.0, grigio  \n",
      " Rating :  9.761398713845907 \n",
      "\n",
      "Recommended Product  7 :  huawei nexus 6p smartphone, display 5.7 pollici, memoria interna 32 gb, 3 gb da ram, fotocamera 12.3 mp, android 6.0, grigio  \n",
      " Rating :  9.761398713845907 \n",
      "\n",
      "Recommended Product  8 :  huawei nexus 6p smartphone, display 5.7 pollici, memoria interna 32 gb, 3 gb da ram, fotocamera 12.3 mp, android 6.0, grigio  \n",
      " Rating :  9.761398713845907 \n",
      "\n",
      "Recommended Product  9 :  huawei nexus 6p smartphone, display 5.7 pollici, memoria interna 32 gb, 3 gb da ram, fotocamera 12.3 mp, android 6.0, grigio  \n",
      " Rating :  9.761398713845907 \n",
      "\n",
      "Recommended Product  10 :  honor 6x smartphone 4g lte, diplay 5.5 pollici fhd, 32 gb rom, 3 gb ram, dual camera 12 megapixel, sensore fingerprint, android, grigio  \n",
      " Rating :  9.713314720346935 \n",
      "\n",
      "Top 5 Recommendations for Author: angel \n",
      "\n",
      "Recommended Product  1 :  doogee dg310 - smartphone libre android (pantalla 5\", cã¡mara 5 mp, 8 gb, quad-core 1.3 ghz, 1 gb ram), blanco  \n",
      " Rating :  9.142834198415487 \n",
      "\n",
      "Recommended Product  2 :  nokia lumia 520 smartphone, black [italia]  \n",
      " Rating :  9.10517240677022 \n",
      "\n",
      "Recommended Product  3 :  doro phoneeasy 612 mobiltelefon klapphandy (2 megapixel kamera, groãen tasten, ukw-radio) aubergine  \n",
      " Rating :  9.08125899362055 \n",
      "\n",
      "Recommended Product  4 :  desconocido xiaomi redmi note 4g lte - smartphone libre android (pantalla 5.5\", cã¡mara 13 mp, 8 gb, quad-core 1.2 ghz, 1 gb ram), blanco  \n",
      " Rating :  8.987025099120956 \n",
      "\n",
      "Recommended Product  5 :  huawei p8 lite-am08 - pack smartphone huawei p8 lite negro con altavoz portã¡til am08 gold (2 gb de ram, 16 gb de memoria interna, cã¡mara 13 mpxs/8mpx), color negro  \n",
      " Rating :  8.979556087614618 \n",
      "\n",
      "Recommended Product  6 :  nokia lumia 625  \n",
      " Rating :  8.931965500292211 \n",
      "\n",
      "Recommended Product  7 :  samsung galaxy y duos s6102 - smartphone libre (pantalla tã¡ctil de 3,14\" 240 x 320, cã¡mara 3.15 mp, 160.0 mb, procesador de 832 mhz, 290 mb de ram, dual sim, s.o. android 2.3), negro (importado)  \n",
      " Rating :  8.889007639731322 \n",
      "\n",
      "Recommended Product  8 :  samsung galaxy s ii mini - smartphone libre (pantalla t??ctil de 3,27\" 320 x 480, c??mara 3.2 mp, 2.71 gb, procesador de 800 mhz, 512mb de ram, s.o. android 2.3+), negro [importado]  \n",
      " Rating :  8.857184989698373 \n",
      "\n",
      "Recommended Product  9 :  nokia 5630 xpressmusic  \n",
      " Rating :  8.79941396001126 \n",
      "\n",
      "Recommended Product  10 :  bq aquaris 5 - smartphone libre android (pantalla 5 pulgadas, cã¡mara 8 mp, 16 gb, quad-core 1.2 ghz, 1 gb ram), blanco  \n",
      " Rating :  8.791901023450901 \n",
      "\n",
      "Top 5 Recommendations for Author: mauro \n",
      "\n",
      "Recommended Product  1 :  huawei p9 lite smartphone, lte, display 5.2'' fhd, processore octa-core kirin 650, 16 gb memoria interna, 3gb ram, fotocamera 13 mp, single-sim, android 6.0 marshmallow, bianco [italia]  \n",
      " Rating :  9.866937733400563 \n",
      "\n",
      "Recommended Product  2 :  lenovo motorola moto g smartphone, 4,5 pollici display hd, processore qualcomm, memoria 16gb, microsim, android 4.3 os, fotocamera da 5 mp, nero [germania]  \n",
      " Rating :  9.713071142913737 \n",
      "\n",
      "Recommended Product  3 :  lenovo motorola moto g smartphone, display hd 4,5\", processore qualcomm, memoria 8 gb, microsim, android 4.4 os, fotocamera da 5 mp, nero [germania]  \n",
      " Rating :  9.519136438335057 \n",
      "\n",
      "Recommended Product  4 :  lenovo motorola moto g 4g (2 generazione) smartphone, display 5 pollici, lte, fotocamera 8 mp, memoria 8 gb, android 5 lollipop, nero [italia]  \n",
      " Rating :  9.396409778150742 \n",
      "\n",
      "Recommended Product  5 :  huawei ascend p8 smartphone, display 5.2\" fhd, memoria ram da 3 gb, processore hisilicon kirin 930 octa-core, fotocamera principale 13 mp, grigio  \n",
      " Rating :  9.224009267204753 \n",
      "\n",
      "Recommended Product  6 :  wiko fever 4g smartphone, 16 gb, dual sim, bianco  \n",
      " Rating :  9.19128951782035 \n",
      "\n",
      "Recommended Product  7 :  asus zenfone 2 smartphone, 64 gb, blu fusion [italia]  \n",
      " Rating :  9.030927033065794 \n",
      "\n",
      "Recommended Product  8 :  samsung galaxy s3 mini i8190 smartphone (10,2 cm (4 zoll) amoled display, dual-core, 1ghz, 1gb ram, 5 megapixel kamera, android 4.1) garnet-red  \n",
      " Rating :  8.973598867259401 \n",
      "\n",
      "Recommended Product  9 :  asus zenfone go 5\" smartphone, 8 gb, dual sim, bianco [italia]  \n",
      " Rating :  8.850400161308213 \n",
      "\n",
      "Recommended Product  10 :  nokia lumia 620 smartphone, bianco [italia]  \n",
      " Rating :  8.761091961569331 \n",
      "\n"
     ]
    }
   ],
   "source": [
    "# based on svd predictions\n",
    "test_users_list = ['amazon customer','max','cliente amazon','angel','mauro']\n",
    "for item in test_users_list:\n",
    "    if item in top_n:\n",
    "        value = top_n.get(item)\n",
    "        print(\"Top 5 Recommendations for Author:\",item,\"\\n\")\n",
    "        count = 1\n",
    "        for values in value:\n",
    "            print(\"Recommended Product \",count,\": \", values[0],\" \\n Rating : \",values[1],\"\\n\")\n",
    "            count= count+1\n",
    "            "
   ]
  },
  {
   "cell_type": "markdown",
   "metadata": {},
   "source": [
    "### 9. Check for outliers and impute them as required."
   ]
  },
  {
   "cell_type": "markdown",
   "metadata": {},
   "source": [
    "### Implemented above at the start"
   ]
  },
  {
   "cell_type": "markdown",
   "metadata": {},
   "source": [
    "### 10. Try cross validation techniques to get better results."
   ]
  },
  {
   "cell_type": "code",
   "execution_count": 150,
   "metadata": {},
   "outputs": [
    {
     "name": "stdout",
     "output_type": "stream",
     "text": [
      "Evaluating RMSE, MAE of algorithm SVD on 5 split(s).\n",
      "\n",
      "                  Fold 1  Fold 2  Fold 3  Fold 4  Fold 5  Mean    Std     \n",
      "RMSE (testset)    2.6874  2.6969  2.6929  2.7159  2.7262  2.7039  0.0147  \n",
      "MAE (testset)     2.0728  2.0866  2.0829  2.0915  2.1434  2.0954  0.0248  \n",
      "Fit time          7.47    7.31    7.35    7.30    7.34    7.35    0.06    \n",
      "Test time         0.26    0.25    0.25    0.25    0.25    0.25    0.00    \n"
     ]
    },
    {
     "data": {
      "text/plain": [
       "{'test_rmse': array([2.68740228, 2.69685248, 2.69293665, 2.71592705, 2.72624868]),\n",
       " 'test_mae': array([2.07283035, 2.08660205, 2.08286396, 2.09147675, 2.14340132]),\n",
       " 'fit_time': (7.471107482910156,\n",
       "  7.311555624008179,\n",
       "  7.3535315990448,\n",
       "  7.298506021499634,\n",
       "  7.338504791259766),\n",
       " 'test_time': (0.25785303115844727,\n",
       "  0.2529788017272949,\n",
       "  0.25298547744750977,\n",
       "  0.2486400604248047,\n",
       "  0.251253604888916)}"
      ]
     },
     "execution_count": 150,
     "metadata": {},
     "output_type": "execute_result"
    }
   ],
   "source": [
    "cross_validate(algo_svd, data, measures=['RMSE', 'MAE'], cv=5, verbose=True)"
   ]
  },
  {
   "cell_type": "code",
   "execution_count": 151,
   "metadata": {},
   "outputs": [
    {
     "name": "stdout",
     "output_type": "stream",
     "text": [
      "Estimating biases using als...\n",
      "Computing the pearson_baseline similarity matrix...\n",
      "Done computing similarity matrix.\n",
      "Estimating biases using als...\n",
      "Computing the pearson_baseline similarity matrix...\n",
      "Done computing similarity matrix.\n",
      "Estimating biases using als...\n",
      "Computing the pearson_baseline similarity matrix...\n",
      "Done computing similarity matrix.\n",
      "Estimating biases using als...\n",
      "Computing the pearson_baseline similarity matrix...\n",
      "Done computing similarity matrix.\n",
      "Estimating biases using als...\n",
      "Computing the pearson_baseline similarity matrix...\n",
      "Done computing similarity matrix.\n",
      "Evaluating RMSE, MAE of algorithm KNNWithMeans on 5 split(s).\n",
      "\n",
      "                  Fold 1  Fold 2  Fold 3  Fold 4  Fold 5  Mean    Std     \n",
      "RMSE (testset)    2.7551  2.8070  2.7719  2.7876  2.7688  2.7781  0.0178  \n",
      "MAE (testset)     2.1021  2.1420  2.1101  2.1183  2.1017  2.1148  0.0149  \n",
      "Fit time          1.44    1.42    1.42    1.42    0.85    1.31    0.23    \n",
      "Test time         6.76    6.01    5.98    3.25    6.09    5.62    1.22    \n"
     ]
    },
    {
     "data": {
      "text/plain": [
       "{'test_rmse': array([2.75514761, 2.8070278 , 2.77190936, 2.78764452, 2.76876884]),\n",
       " 'test_mae': array([2.10213144, 2.1419746 , 2.11013977, 2.11826251, 2.10169756]),\n",
       " 'fit_time': (1.43696928024292,\n",
       "  1.420933723449707,\n",
       "  1.4204246997833252,\n",
       "  1.4227728843688965,\n",
       "  0.8518192768096924),\n",
       " 'test_time': (6.755309581756592,\n",
       "  6.008702516555786,\n",
       "  5.982185125350952,\n",
       "  3.2504730224609375,\n",
       "  6.0859551429748535)}"
      ]
     },
     "execution_count": 151,
     "metadata": {},
     "output_type": "execute_result"
    }
   ],
   "source": [
    "cross_validate(algo_user, data, measures=['RMSE', 'MAE'], cv=5, verbose=True)"
   ]
  },
  {
   "cell_type": "code",
   "execution_count": 152,
   "metadata": {},
   "outputs": [
    {
     "name": "stdout",
     "output_type": "stream",
     "text": [
      "Estimating biases using als...\n",
      "Computing the pearson_baseline similarity matrix...\n",
      "Done computing similarity matrix.\n",
      "Estimating biases using als...\n",
      "Computing the pearson_baseline similarity matrix...\n",
      "Done computing similarity matrix.\n",
      "Estimating biases using als...\n",
      "Computing the pearson_baseline similarity matrix...\n",
      "Done computing similarity matrix.\n",
      "Estimating biases using als...\n",
      "Computing the pearson_baseline similarity matrix...\n",
      "Done computing similarity matrix.\n",
      "Estimating biases using als...\n",
      "Computing the pearson_baseline similarity matrix...\n",
      "Done computing similarity matrix.\n",
      "Evaluating RMSE, MAE of algorithm KNNWithMeans on 5 split(s).\n",
      "\n",
      "                  Fold 1  Fold 2  Fold 3  Fold 4  Fold 5  Mean    Std     \n",
      "RMSE (testset)    2.7043  2.7326  2.7316  2.7258  2.6772  2.7143  0.0212  \n",
      "MAE (testset)     2.0821  2.1161  2.1163  2.1010  2.0685  2.0968  0.0189  \n",
      "Fit time          133.72  127.86  104.00  137.23  124.39  125.44  11.61   \n",
      "Test time         264.08  349.84  284.04  318.71  275.32  298.40  31.55   \n"
     ]
    },
    {
     "data": {
      "text/plain": [
       "{'test_rmse': array([2.70429889, 2.73260061, 2.73160222, 2.72579164, 2.67716275]),\n",
       " 'test_mae': array([2.08214935, 2.11608589, 2.11628575, 2.10098332, 2.06854116]),\n",
       " 'fit_time': (133.71769905090332,\n",
       "  127.86177921295166,\n",
       "  103.99961042404175,\n",
       "  137.22911190986633,\n",
       "  124.39160132408142),\n",
       " 'test_time': (264.07502794265747,\n",
       "  349.84211254119873,\n",
       "  284.0393388271332,\n",
       "  318.71424746513367,\n",
       "  275.3188147544861)}"
      ]
     },
     "execution_count": 152,
     "metadata": {},
     "output_type": "execute_result"
    }
   ],
   "source": [
    "cross_validate(algo_item, data, measures=['RMSE', 'MAE'], cv=5, verbose=True)"
   ]
  },
  {
   "cell_type": "markdown",
   "metadata": {},
   "source": [
    "### 11. In what business scenario you should use popularity based Recommendation Systems ?"
   ]
  },
  {
   "cell_type": "markdown",
   "metadata": {},
   "source": [
    "Popularity based recommendation system provides general recommendations to its users based on the current trend or product popularity or the products purchased by most of the people and rated as high.\n",
    "It takes the average ratings of each product and recommends the topmost products to its users.\n",
    "It does not provide with personal recommendations based on users ineterests or attributes.\n",
    "\n",
    "Popularity based Recommendation system is used in the following business scenarios:\n",
    "1. When users disable their tracking information its difficult to get the interests, instead of having zero recommendations, popular products can be recommended.\n",
    "2. When business is started, and there are no any ratings available. Then popularity of products can be considered.\n",
    "e.g. Popular books, movies etc.\n",
    "3. When sufficient ratings data is not available for individual users interests. So to start with we can build popularity based recommendation system. When sufficient rating data is collected over time then can shift to personalization based on collaborative filtering methods.\n"
   ]
  },
  {
   "cell_type": "markdown",
   "metadata": {},
   "source": [
    "### 12. In what business scenario you should use CF based Recommendation Systems ?"
   ]
  },
  {
   "cell_type": "markdown",
   "metadata": {},
   "source": [
    "Collaboartive filtering based recommendation system provides personalized recommendations to its users based on users interests or attributes. It can be based on user similarity, in which case recommendations are provided based on users who have purchased the same product. It finds neighbours based on common ratings provided by users.\n",
    "It works by searching a large group of people and finding a smaller set of users with tastes similar to a particular user. It looks at the items they like and combines them to create a ranked list of suggestions.\n",
    "In item-item based recommendation system provides recommendations based on item similarity. Items which has similar ratings can be considered as similar items.\n",
    "\n",
    "#### Collaborative Filtering based recommendation systems are user in the following business scenarios:\n",
    "In case sufficient user and rating data is available, can use collaborative filtering recommendation system.\n",
    "It provides personalized ratings useful for better sell of the products and frequent visits by the users/customers.\n",
    "Collaborative filtering doesn’t require features about the items or users to be known. It is suited for a set of different types of items, for example, a supermarket’s inventory where items of various categories can be added. \n",
    "\n",
    "Although collaborative Filtering is very commonly used in recommenders, some of the challenges that are faced while using it are the following:\n",
    "\n",
    "Problems with Collaborative filtering:\n",
    "1. Cold start for new items that are added to the list. Until someone rates them, they don’t get recommended.\n",
    "\n",
    "2. Data sparsity can affect the quality of user-based recommenders and also add to the cold start problem mentioned above.\n",
    "\n",
    "3. Scaling can be a challenge for growing datasets as the complexity can become too large. Item-based recommenders are faster than user-based when the dataset is large.\n",
    "\n",
    "\n"
   ]
  },
  {
   "cell_type": "markdown",
   "metadata": {},
   "source": [
    "### 13. What other possible methods can you think of which can further improve the recommendation for different users ?"
   ]
  },
  {
   "cell_type": "markdown",
   "metadata": {},
   "source": [
    "To improve recommendation systems we can use following methods:\n",
    "#### Hybrid filtering techniques.\n",
    "\n",
    "#### Hybrid filtering techniques:\n",
    "Hybrid filtering technique combines different recommendation techniques in order to gain better system optimization to avoid some limitations and problems of pure recommendation systems.\n",
    "In hybrid techniques,a combination of algorithms is used.\n",
    "It will provide more accurate and effective recommendations than a single algorithm as the disadvantages of one algorithm can be overcome by another algorithm.\n",
    "The combination of approaches can be done in any of the following ways: \n",
    "1. Separate implementation of algorithms and combining the result\n",
    "2. Utilizing some content-based filtering in collaborative approach\n",
    "3. Utilizing some collaborative filtering in content-based approach\n",
    "4. Creating a unified recommendation system that brings together both approaches.\n",
    "\n",
    "##### Weighted hybridization combines the results of different recommenders to generate a recommendation list or prediction by integrating the scores from each of the techniques in use by a linear formula.\n",
    "##### Switching hybridization\n",
    "The system swaps to one of the recommendation techniques according to a heuristic reflecting the recommender ability to produce a good rating. \n",
    "The switching hybrid has the ability to avoid problems specific to one method e.g. the new user problem of content-based recommender, by switching to a collaborative recommendation system. The benefit of this strategy is that the system is sensitive to the strengths and weaknesses of its constituent recommenders. \n",
    "##### Cascade hybridization\n",
    "The cascade hybridization technique applies an iterative refinement process in constructing an order of preference among different items. The recommendations of one technique are refined by another recommendation technique. The first recommendation technique outputs a coarse list of recommendations which is in turn refined by the next recommendation technique. \n",
    "\n",
    "##### Mixed hybridization\n",
    "Mixed hybrids combine recommendation results of different recommendation techniques at the same time instead of having just one recommendation per item. Each item has multiple recommendations associated with it from different recommendation techniques.\n",
    "\n",
    "##### Feature-combination\n",
    "The features produced by a specific recommendation technique are fed into another recommendation technique. \n",
    "\n",
    "##### Feature-augmentation\n",
    "Uses ratings and other information from previous recommender.\n",
    "It also requires additional functionality from the recommender systems.\n",
    "\n",
    "\n"
   ]
  },
  {
   "cell_type": "markdown",
   "metadata": {},
   "source": [
    "#### Some additional algorithms are applied on the dataset with cross validation with k = 3\n",
    "#### Algorithms NMF, SlopeOne, NormalPredictor, KNNBaseline,KNNBasic,  KNNWithMeans, KNNWithZScore, BaselineOnly, CoClustering are used and rmse is computed for each algorithm."
   ]
  },
  {
   "cell_type": "code",
   "execution_count": 154,
   "metadata": {},
   "outputs": [
    {
     "ename": "KeyboardInterrupt",
     "evalue": "",
     "output_type": "error",
     "traceback": [
      "\u001b[0;31m---------------------------------------------------------------------------\u001b[0m",
      "\u001b[0;31mKeyboardInterrupt\u001b[0m                         Traceback (most recent call last)",
      "\u001b[0;32m<ipython-input-154-36b0cfc7e1fd>\u001b[0m in \u001b[0;36m<module>\u001b[0;34m\u001b[0m\n\u001b[1;32m      4\u001b[0m \u001b[0;32mfor\u001b[0m \u001b[0malgorithm\u001b[0m \u001b[0;32min\u001b[0m \u001b[0;34m[\u001b[0m\u001b[0mSVD\u001b[0m\u001b[0;34m(\u001b[0m\u001b[0;34m)\u001b[0m\u001b[0;34m,\u001b[0m \u001b[0mSVDpp\u001b[0m\u001b[0;34m(\u001b[0m\u001b[0;34m)\u001b[0m\u001b[0;34m,\u001b[0m \u001b[0mSlopeOne\u001b[0m\u001b[0;34m(\u001b[0m\u001b[0;34m)\u001b[0m\u001b[0;34m,\u001b[0m \u001b[0mNMF\u001b[0m\u001b[0;34m(\u001b[0m\u001b[0;34m)\u001b[0m\u001b[0;34m,\u001b[0m \u001b[0mNormalPredictor\u001b[0m\u001b[0;34m(\u001b[0m\u001b[0;34m)\u001b[0m\u001b[0;34m,\u001b[0m \u001b[0mKNNBaseline\u001b[0m\u001b[0;34m(\u001b[0m\u001b[0;34m)\u001b[0m\u001b[0;34m,\u001b[0m \u001b[0mKNNBasic\u001b[0m\u001b[0;34m(\u001b[0m\u001b[0;34m)\u001b[0m\u001b[0;34m,\u001b[0m \u001b[0mKNNWithMeans\u001b[0m\u001b[0;34m(\u001b[0m\u001b[0;34m)\u001b[0m\u001b[0;34m,\u001b[0m \u001b[0mKNNWithZScore\u001b[0m\u001b[0;34m(\u001b[0m\u001b[0;34m)\u001b[0m\u001b[0;34m,\u001b[0m \u001b[0mBaselineOnly\u001b[0m\u001b[0;34m(\u001b[0m\u001b[0;34m)\u001b[0m\u001b[0;34m,\u001b[0m \u001b[0mCoClustering\u001b[0m\u001b[0;34m(\u001b[0m\u001b[0;34m)\u001b[0m\u001b[0;34m]\u001b[0m\u001b[0;34m:\u001b[0m\u001b[0;34m\u001b[0m\u001b[0;34m\u001b[0m\u001b[0m\n\u001b[1;32m      5\u001b[0m     \u001b[0;31m# Perform cross validation\u001b[0m\u001b[0;34m\u001b[0m\u001b[0;34m\u001b[0m\u001b[0;34m\u001b[0m\u001b[0m\n\u001b[0;32m----> 6\u001b[0;31m     \u001b[0mresults\u001b[0m \u001b[0;34m=\u001b[0m \u001b[0mcross_validate\u001b[0m\u001b[0;34m(\u001b[0m\u001b[0malgorithm\u001b[0m\u001b[0;34m,\u001b[0m \u001b[0mdata\u001b[0m\u001b[0;34m,\u001b[0m \u001b[0mmeasures\u001b[0m\u001b[0;34m=\u001b[0m\u001b[0;34m[\u001b[0m\u001b[0;34m'RMSE'\u001b[0m\u001b[0;34m]\u001b[0m\u001b[0;34m,\u001b[0m \u001b[0mcv\u001b[0m\u001b[0;34m=\u001b[0m\u001b[0;36m3\u001b[0m\u001b[0;34m,\u001b[0m \u001b[0mverbose\u001b[0m\u001b[0;34m=\u001b[0m\u001b[0;32mFalse\u001b[0m\u001b[0;34m)\u001b[0m\u001b[0;34m\u001b[0m\u001b[0;34m\u001b[0m\u001b[0m\n\u001b[0m\u001b[1;32m      7\u001b[0m \u001b[0;34m\u001b[0m\u001b[0m\n\u001b[1;32m      8\u001b[0m     \u001b[0;31m# Get results & append algorithm name\u001b[0m\u001b[0;34m\u001b[0m\u001b[0;34m\u001b[0m\u001b[0;34m\u001b[0m\u001b[0m\n",
      "\u001b[0;32m~/anaconda3/lib/python3.7/site-packages/surprise/model_selection/validation.py\u001b[0m in \u001b[0;36mcross_validate\u001b[0;34m(algo, data, measures, cv, return_train_measures, n_jobs, pre_dispatch, verbose)\u001b[0m\n\u001b[1;32m    101\u001b[0m                                            return_train_measures)\n\u001b[1;32m    102\u001b[0m                     for (trainset, testset) in cv.split(data))\n\u001b[0;32m--> 103\u001b[0;31m     \u001b[0mout\u001b[0m \u001b[0;34m=\u001b[0m \u001b[0mParallel\u001b[0m\u001b[0;34m(\u001b[0m\u001b[0mn_jobs\u001b[0m\u001b[0;34m=\u001b[0m\u001b[0mn_jobs\u001b[0m\u001b[0;34m,\u001b[0m \u001b[0mpre_dispatch\u001b[0m\u001b[0;34m=\u001b[0m\u001b[0mpre_dispatch\u001b[0m\u001b[0;34m)\u001b[0m\u001b[0;34m(\u001b[0m\u001b[0mdelayed_list\u001b[0m\u001b[0;34m)\u001b[0m\u001b[0;34m\u001b[0m\u001b[0;34m\u001b[0m\u001b[0m\n\u001b[0m\u001b[1;32m    104\u001b[0m \u001b[0;34m\u001b[0m\u001b[0m\n\u001b[1;32m    105\u001b[0m     (test_measures_dicts,\n",
      "\u001b[0;32m~/anaconda3/lib/python3.7/site-packages/joblib/parallel.py\u001b[0m in \u001b[0;36m__call__\u001b[0;34m(self, iterable)\u001b[0m\n\u001b[1;32m   1027\u001b[0m             \u001b[0;31m# remaining jobs.\u001b[0m\u001b[0;34m\u001b[0m\u001b[0;34m\u001b[0m\u001b[0;34m\u001b[0m\u001b[0m\n\u001b[1;32m   1028\u001b[0m             \u001b[0mself\u001b[0m\u001b[0;34m.\u001b[0m\u001b[0m_iterating\u001b[0m \u001b[0;34m=\u001b[0m \u001b[0;32mFalse\u001b[0m\u001b[0;34m\u001b[0m\u001b[0;34m\u001b[0m\u001b[0m\n\u001b[0;32m-> 1029\u001b[0;31m             \u001b[0;32mif\u001b[0m \u001b[0mself\u001b[0m\u001b[0;34m.\u001b[0m\u001b[0mdispatch_one_batch\u001b[0m\u001b[0;34m(\u001b[0m\u001b[0miterator\u001b[0m\u001b[0;34m)\u001b[0m\u001b[0;34m:\u001b[0m\u001b[0;34m\u001b[0m\u001b[0;34m\u001b[0m\u001b[0m\n\u001b[0m\u001b[1;32m   1030\u001b[0m                 \u001b[0mself\u001b[0m\u001b[0;34m.\u001b[0m\u001b[0m_iterating\u001b[0m \u001b[0;34m=\u001b[0m \u001b[0mself\u001b[0m\u001b[0;34m.\u001b[0m\u001b[0m_original_iterator\u001b[0m \u001b[0;32mis\u001b[0m \u001b[0;32mnot\u001b[0m \u001b[0;32mNone\u001b[0m\u001b[0;34m\u001b[0m\u001b[0;34m\u001b[0m\u001b[0m\n\u001b[1;32m   1031\u001b[0m \u001b[0;34m\u001b[0m\u001b[0m\n",
      "\u001b[0;32m~/anaconda3/lib/python3.7/site-packages/joblib/parallel.py\u001b[0m in \u001b[0;36mdispatch_one_batch\u001b[0;34m(self, iterator)\u001b[0m\n\u001b[1;32m    845\u001b[0m                 \u001b[0;32mreturn\u001b[0m \u001b[0;32mFalse\u001b[0m\u001b[0;34m\u001b[0m\u001b[0;34m\u001b[0m\u001b[0m\n\u001b[1;32m    846\u001b[0m             \u001b[0;32melse\u001b[0m\u001b[0;34m:\u001b[0m\u001b[0;34m\u001b[0m\u001b[0;34m\u001b[0m\u001b[0m\n\u001b[0;32m--> 847\u001b[0;31m                 \u001b[0mself\u001b[0m\u001b[0;34m.\u001b[0m\u001b[0m_dispatch\u001b[0m\u001b[0;34m(\u001b[0m\u001b[0mtasks\u001b[0m\u001b[0;34m)\u001b[0m\u001b[0;34m\u001b[0m\u001b[0;34m\u001b[0m\u001b[0m\n\u001b[0m\u001b[1;32m    848\u001b[0m                 \u001b[0;32mreturn\u001b[0m \u001b[0;32mTrue\u001b[0m\u001b[0;34m\u001b[0m\u001b[0;34m\u001b[0m\u001b[0m\n\u001b[1;32m    849\u001b[0m \u001b[0;34m\u001b[0m\u001b[0m\n",
      "\u001b[0;32m~/anaconda3/lib/python3.7/site-packages/joblib/parallel.py\u001b[0m in \u001b[0;36m_dispatch\u001b[0;34m(self, batch)\u001b[0m\n\u001b[1;32m    763\u001b[0m         \u001b[0;32mwith\u001b[0m \u001b[0mself\u001b[0m\u001b[0;34m.\u001b[0m\u001b[0m_lock\u001b[0m\u001b[0;34m:\u001b[0m\u001b[0;34m\u001b[0m\u001b[0;34m\u001b[0m\u001b[0m\n\u001b[1;32m    764\u001b[0m             \u001b[0mjob_idx\u001b[0m \u001b[0;34m=\u001b[0m \u001b[0mlen\u001b[0m\u001b[0;34m(\u001b[0m\u001b[0mself\u001b[0m\u001b[0;34m.\u001b[0m\u001b[0m_jobs\u001b[0m\u001b[0;34m)\u001b[0m\u001b[0;34m\u001b[0m\u001b[0;34m\u001b[0m\u001b[0m\n\u001b[0;32m--> 765\u001b[0;31m             \u001b[0mjob\u001b[0m \u001b[0;34m=\u001b[0m \u001b[0mself\u001b[0m\u001b[0;34m.\u001b[0m\u001b[0m_backend\u001b[0m\u001b[0;34m.\u001b[0m\u001b[0mapply_async\u001b[0m\u001b[0;34m(\u001b[0m\u001b[0mbatch\u001b[0m\u001b[0;34m,\u001b[0m \u001b[0mcallback\u001b[0m\u001b[0;34m=\u001b[0m\u001b[0mcb\u001b[0m\u001b[0;34m)\u001b[0m\u001b[0;34m\u001b[0m\u001b[0;34m\u001b[0m\u001b[0m\n\u001b[0m\u001b[1;32m    766\u001b[0m             \u001b[0;31m# A job can complete so quickly than its callback is\u001b[0m\u001b[0;34m\u001b[0m\u001b[0;34m\u001b[0m\u001b[0;34m\u001b[0m\u001b[0m\n\u001b[1;32m    767\u001b[0m             \u001b[0;31m# called before we get here, causing self._jobs to\u001b[0m\u001b[0;34m\u001b[0m\u001b[0;34m\u001b[0m\u001b[0;34m\u001b[0m\u001b[0m\n",
      "\u001b[0;32m~/anaconda3/lib/python3.7/site-packages/joblib/_parallel_backends.py\u001b[0m in \u001b[0;36mapply_async\u001b[0;34m(self, func, callback)\u001b[0m\n\u001b[1;32m    204\u001b[0m     \u001b[0;32mdef\u001b[0m \u001b[0mapply_async\u001b[0m\u001b[0;34m(\u001b[0m\u001b[0mself\u001b[0m\u001b[0;34m,\u001b[0m \u001b[0mfunc\u001b[0m\u001b[0;34m,\u001b[0m \u001b[0mcallback\u001b[0m\u001b[0;34m=\u001b[0m\u001b[0;32mNone\u001b[0m\u001b[0;34m)\u001b[0m\u001b[0;34m:\u001b[0m\u001b[0;34m\u001b[0m\u001b[0;34m\u001b[0m\u001b[0m\n\u001b[1;32m    205\u001b[0m         \u001b[0;34m\"\"\"Schedule a func to be run\"\"\"\u001b[0m\u001b[0;34m\u001b[0m\u001b[0;34m\u001b[0m\u001b[0m\n\u001b[0;32m--> 206\u001b[0;31m         \u001b[0mresult\u001b[0m \u001b[0;34m=\u001b[0m \u001b[0mImmediateResult\u001b[0m\u001b[0;34m(\u001b[0m\u001b[0mfunc\u001b[0m\u001b[0;34m)\u001b[0m\u001b[0;34m\u001b[0m\u001b[0;34m\u001b[0m\u001b[0m\n\u001b[0m\u001b[1;32m    207\u001b[0m         \u001b[0;32mif\u001b[0m \u001b[0mcallback\u001b[0m\u001b[0;34m:\u001b[0m\u001b[0;34m\u001b[0m\u001b[0;34m\u001b[0m\u001b[0m\n\u001b[1;32m    208\u001b[0m             \u001b[0mcallback\u001b[0m\u001b[0;34m(\u001b[0m\u001b[0mresult\u001b[0m\u001b[0;34m)\u001b[0m\u001b[0;34m\u001b[0m\u001b[0;34m\u001b[0m\u001b[0m\n",
      "\u001b[0;32m~/anaconda3/lib/python3.7/site-packages/joblib/_parallel_backends.py\u001b[0m in \u001b[0;36m__init__\u001b[0;34m(self, batch)\u001b[0m\n\u001b[1;32m    568\u001b[0m         \u001b[0;31m# Don't delay the application, to avoid keeping the input\u001b[0m\u001b[0;34m\u001b[0m\u001b[0;34m\u001b[0m\u001b[0;34m\u001b[0m\u001b[0m\n\u001b[1;32m    569\u001b[0m         \u001b[0;31m# arguments in memory\u001b[0m\u001b[0;34m\u001b[0m\u001b[0;34m\u001b[0m\u001b[0;34m\u001b[0m\u001b[0m\n\u001b[0;32m--> 570\u001b[0;31m         \u001b[0mself\u001b[0m\u001b[0;34m.\u001b[0m\u001b[0mresults\u001b[0m \u001b[0;34m=\u001b[0m \u001b[0mbatch\u001b[0m\u001b[0;34m(\u001b[0m\u001b[0;34m)\u001b[0m\u001b[0;34m\u001b[0m\u001b[0;34m\u001b[0m\u001b[0m\n\u001b[0m\u001b[1;32m    571\u001b[0m \u001b[0;34m\u001b[0m\u001b[0m\n\u001b[1;32m    572\u001b[0m     \u001b[0;32mdef\u001b[0m \u001b[0mget\u001b[0m\u001b[0;34m(\u001b[0m\u001b[0mself\u001b[0m\u001b[0;34m)\u001b[0m\u001b[0;34m:\u001b[0m\u001b[0;34m\u001b[0m\u001b[0;34m\u001b[0m\u001b[0m\n",
      "\u001b[0;32m~/anaconda3/lib/python3.7/site-packages/joblib/parallel.py\u001b[0m in \u001b[0;36m__call__\u001b[0;34m(self)\u001b[0m\n\u001b[1;32m    251\u001b[0m         \u001b[0;32mwith\u001b[0m \u001b[0mparallel_backend\u001b[0m\u001b[0;34m(\u001b[0m\u001b[0mself\u001b[0m\u001b[0;34m.\u001b[0m\u001b[0m_backend\u001b[0m\u001b[0;34m,\u001b[0m \u001b[0mn_jobs\u001b[0m\u001b[0;34m=\u001b[0m\u001b[0mself\u001b[0m\u001b[0;34m.\u001b[0m\u001b[0m_n_jobs\u001b[0m\u001b[0;34m)\u001b[0m\u001b[0;34m:\u001b[0m\u001b[0;34m\u001b[0m\u001b[0;34m\u001b[0m\u001b[0m\n\u001b[1;32m    252\u001b[0m             return [func(*args, **kwargs)\n\u001b[0;32m--> 253\u001b[0;31m                     for func, args, kwargs in self.items]\n\u001b[0m\u001b[1;32m    254\u001b[0m \u001b[0;34m\u001b[0m\u001b[0m\n\u001b[1;32m    255\u001b[0m     \u001b[0;32mdef\u001b[0m \u001b[0m__reduce__\u001b[0m\u001b[0;34m(\u001b[0m\u001b[0mself\u001b[0m\u001b[0;34m)\u001b[0m\u001b[0;34m:\u001b[0m\u001b[0;34m\u001b[0m\u001b[0;34m\u001b[0m\u001b[0m\n",
      "\u001b[0;32m~/anaconda3/lib/python3.7/site-packages/joblib/parallel.py\u001b[0m in \u001b[0;36m<listcomp>\u001b[0;34m(.0)\u001b[0m\n\u001b[1;32m    251\u001b[0m         \u001b[0;32mwith\u001b[0m \u001b[0mparallel_backend\u001b[0m\u001b[0;34m(\u001b[0m\u001b[0mself\u001b[0m\u001b[0;34m.\u001b[0m\u001b[0m_backend\u001b[0m\u001b[0;34m,\u001b[0m \u001b[0mn_jobs\u001b[0m\u001b[0;34m=\u001b[0m\u001b[0mself\u001b[0m\u001b[0;34m.\u001b[0m\u001b[0m_n_jobs\u001b[0m\u001b[0;34m)\u001b[0m\u001b[0;34m:\u001b[0m\u001b[0;34m\u001b[0m\u001b[0;34m\u001b[0m\u001b[0m\n\u001b[1;32m    252\u001b[0m             return [func(*args, **kwargs)\n\u001b[0;32m--> 253\u001b[0;31m                     for func, args, kwargs in self.items]\n\u001b[0m\u001b[1;32m    254\u001b[0m \u001b[0;34m\u001b[0m\u001b[0m\n\u001b[1;32m    255\u001b[0m     \u001b[0;32mdef\u001b[0m \u001b[0m__reduce__\u001b[0m\u001b[0;34m(\u001b[0m\u001b[0mself\u001b[0m\u001b[0;34m)\u001b[0m\u001b[0;34m:\u001b[0m\u001b[0;34m\u001b[0m\u001b[0;34m\u001b[0m\u001b[0m\n",
      "\u001b[0;32m~/anaconda3/lib/python3.7/site-packages/surprise/model_selection/validation.py\u001b[0m in \u001b[0;36mfit_and_score\u001b[0;34m(algo, trainset, testset, measures, return_train_measures)\u001b[0m\n\u001b[1;32m    164\u001b[0m \u001b[0;34m\u001b[0m\u001b[0m\n\u001b[1;32m    165\u001b[0m     \u001b[0mstart_fit\u001b[0m \u001b[0;34m=\u001b[0m \u001b[0mtime\u001b[0m\u001b[0;34m.\u001b[0m\u001b[0mtime\u001b[0m\u001b[0;34m(\u001b[0m\u001b[0;34m)\u001b[0m\u001b[0;34m\u001b[0m\u001b[0;34m\u001b[0m\u001b[0m\n\u001b[0;32m--> 166\u001b[0;31m     \u001b[0malgo\u001b[0m\u001b[0;34m.\u001b[0m\u001b[0mfit\u001b[0m\u001b[0;34m(\u001b[0m\u001b[0mtrainset\u001b[0m\u001b[0;34m)\u001b[0m\u001b[0;34m\u001b[0m\u001b[0;34m\u001b[0m\u001b[0m\n\u001b[0m\u001b[1;32m    167\u001b[0m     \u001b[0mfit_time\u001b[0m \u001b[0;34m=\u001b[0m \u001b[0mtime\u001b[0m\u001b[0;34m.\u001b[0m\u001b[0mtime\u001b[0m\u001b[0;34m(\u001b[0m\u001b[0;34m)\u001b[0m \u001b[0;34m-\u001b[0m \u001b[0mstart_fit\u001b[0m\u001b[0;34m\u001b[0m\u001b[0;34m\u001b[0m\u001b[0m\n\u001b[1;32m    168\u001b[0m     \u001b[0mstart_test\u001b[0m \u001b[0;34m=\u001b[0m \u001b[0mtime\u001b[0m\u001b[0;34m.\u001b[0m\u001b[0mtime\u001b[0m\u001b[0;34m(\u001b[0m\u001b[0;34m)\u001b[0m\u001b[0;34m\u001b[0m\u001b[0;34m\u001b[0m\u001b[0m\n",
      "\u001b[0;32m~/anaconda3/lib/python3.7/site-packages/surprise/prediction_algorithms/matrix_factorization.pyx\u001b[0m in \u001b[0;36msurprise.prediction_algorithms.matrix_factorization.SVDpp.fit\u001b[0;34m()\u001b[0m\n",
      "\u001b[0;32m~/anaconda3/lib/python3.7/site-packages/surprise/prediction_algorithms/matrix_factorization.pyx\u001b[0m in \u001b[0;36msurprise.prediction_algorithms.matrix_factorization.SVDpp.sgd\u001b[0;34m()\u001b[0m\n",
      "\u001b[0;32m~/anaconda3/lib/python3.7/site-packages/surprise/trainset.py\u001b[0m in \u001b[0;36mall_ratings\u001b[0;34m(self)\u001b[0m\n\u001b[1;32m    187\u001b[0m         \u001b[0;32mfor\u001b[0m \u001b[0mu\u001b[0m\u001b[0;34m,\u001b[0m \u001b[0mu_ratings\u001b[0m \u001b[0;32min\u001b[0m \u001b[0miteritems\u001b[0m\u001b[0;34m(\u001b[0m\u001b[0mself\u001b[0m\u001b[0;34m.\u001b[0m\u001b[0mur\u001b[0m\u001b[0;34m)\u001b[0m\u001b[0;34m:\u001b[0m\u001b[0;34m\u001b[0m\u001b[0;34m\u001b[0m\u001b[0m\n\u001b[1;32m    188\u001b[0m             \u001b[0;32mfor\u001b[0m \u001b[0mi\u001b[0m\u001b[0;34m,\u001b[0m \u001b[0mr\u001b[0m \u001b[0;32min\u001b[0m \u001b[0mu_ratings\u001b[0m\u001b[0;34m:\u001b[0m\u001b[0;34m\u001b[0m\u001b[0;34m\u001b[0m\u001b[0m\n\u001b[0;32m--> 189\u001b[0;31m                 \u001b[0;32myield\u001b[0m \u001b[0mu\u001b[0m\u001b[0;34m,\u001b[0m \u001b[0mi\u001b[0m\u001b[0;34m,\u001b[0m \u001b[0mr\u001b[0m\u001b[0;34m\u001b[0m\u001b[0;34m\u001b[0m\u001b[0m\n\u001b[0m\u001b[1;32m    190\u001b[0m \u001b[0;34m\u001b[0m\u001b[0m\n\u001b[1;32m    191\u001b[0m     \u001b[0;32mdef\u001b[0m \u001b[0mbuild_testset\u001b[0m\u001b[0;34m(\u001b[0m\u001b[0mself\u001b[0m\u001b[0;34m)\u001b[0m\u001b[0;34m:\u001b[0m\u001b[0;34m\u001b[0m\u001b[0;34m\u001b[0m\u001b[0m\n",
      "\u001b[0;31mKeyboardInterrupt\u001b[0m: "
     ]
    }
   ],
   "source": [
    "from surprise import NMF, SVDpp, SlopeOne,NormalPredictor,KNNBaseline,KNNBasic, KNNWithMeans, KNNWithZScore, BaselineOnly, CoClustering\n",
    "benchmark = []\n",
    "# Iterate over all algorithms\n",
    "for algorithm in [SVD(), SVDpp(), SlopeOne(), NMF(), NormalPredictor(), KNNBaseline(), KNNBasic(), KNNWithMeans(), KNNWithZScore(), BaselineOnly(), CoClustering()]:\n",
    "    # Perform cross validation\n",
    "    results = cross_validate(algorithm, data, measures=['RMSE'], cv=3, verbose=False)\n",
    "    \n",
    "    # Get results & append algorithm name\n",
    "    tmp = pd.DataFrame.from_dict(results).mean(axis=0)\n",
    "    tmp = tmp.append(pd.Series([str(algorithm).split(' ')[0].split('.')[-1]], index=['Algorithm']))\n",
    "    benchmark.append(tmp)\n",
    "    \n",
    "pd.DataFrame(benchmark).set_index('Algorithm').sort_values('test_rmse')    "
   ]
  },
  {
   "cell_type": "code",
   "execution_count": null,
   "metadata": {},
   "outputs": [],
   "source": [
    "benchmark"
   ]
  },
  {
   "cell_type": "code",
   "execution_count": null,
   "metadata": {},
   "outputs": [],
   "source": []
  }
 ],
 "metadata": {
  "kernelspec": {
   "display_name": "Python 3",
   "language": "python",
   "name": "python3"
  },
  "language_info": {
   "codemirror_mode": {
    "name": "ipython",
    "version": 3
   },
   "file_extension": ".py",
   "mimetype": "text/x-python",
   "name": "python",
   "nbconvert_exporter": "python",
   "pygments_lexer": "ipython3",
   "version": "3.7.7"
  }
 },
 "nbformat": 4,
 "nbformat_minor": 4
}
